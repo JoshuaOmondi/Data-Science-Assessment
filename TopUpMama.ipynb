{
  "nbformat": 4,
  "nbformat_minor": 0,
  "metadata": {
    "colab": {
      "name": "TopUpMama.ipynb",
      "provenance": [],
      "collapsed_sections": [],
      "authorship_tag": "ABX9TyPbzqsc9CGoqXBsqB2mS7My",
      "include_colab_link": true
    },
    "kernelspec": {
      "name": "python3",
      "display_name": "Python 3"
    },
    "language_info": {
      "name": "python"
    }
  },
  "cells": [
    {
      "cell_type": "markdown",
      "metadata": {
        "id": "view-in-github",
        "colab_type": "text"
      },
      "source": [
        "<a href=\"https://colab.research.google.com/github/JoshuaOmondi/Data-Science-Assessment/blob/main/TopUpMama.ipynb\" target=\"_parent\"><img src=\"https://colab.research.google.com/assets/colab-badge.svg\" alt=\"Open In Colab\"/></a>"
      ]
    },
    {
      "cell_type": "markdown",
      "source": [
        "# **DATA SCIENTIST ASSESSMENT**\n",
        "\n",
        "## **Joshua Omondi**"
      ],
      "metadata": {
        "id": "tAovKiDI1uHm"
      }
    },
    {
      "cell_type": "markdown",
      "source": [
        "## **Merging Files**"
      ],
      "metadata": {
        "id": "vB8iIkKtdKD0"
      }
    },
    {
      "cell_type": "code",
      "source": [
        "#importing libraries\n",
        "import os\n",
        "import pandas as pd\n",
        "import numpy as np\n",
        "import matplotlib.pyplot as plt\n",
        "\n",
        "\n",
        "merged_df = pd.DataFrame()\n",
        "\n",
        "for file in os.listdir(os.getcwd()):\n",
        "    if file.endswith('.csv'):\n",
        "        merged_df = merged_df.append(pd.read_csv(file))\n",
        "merged_df.to_csv('MergedFile.csv', index = False)"
      ],
      "metadata": {
        "colab": {
          "base_uri": "https://localhost:8080/"
        },
        "id": "jlOc0wfCdQQd",
        "outputId": "24d75e19-a006-45c1-a8c7-02131b788fd3"
      },
      "execution_count": null,
      "outputs": [
        {
          "output_type": "stream",
          "name": "stderr",
          "text": [
            "/usr/local/lib/python3.7/dist-packages/IPython/core/interactiveshell.py:2882: DtypeWarning: Columns (20) have mixed types.Specify dtype option on import or set low_memory=False.\n",
            "  exec(code_obj, self.user_global_ns, self.user_ns)\n"
          ]
        }
      ]
    },
    {
      "cell_type": "markdown",
      "source": [
        "**Loading the merged file**"
      ],
      "metadata": {
        "id": "1VKHIDB9eYuv"
      }
    },
    {
      "cell_type": "code",
      "source": [
        "df = pd.read_csv('MergedFile.csv')\n",
        "df.head(5)"
      ],
      "metadata": {
        "colab": {
          "base_uri": "https://localhost:8080/",
          "height": 457
        },
        "id": "tc8tUrxnd-Wo",
        "outputId": "6780644a-8fe0-4592-e027-c1c679dcd811"
      },
      "execution_count": null,
      "outputs": [
        {
          "output_type": "stream",
          "name": "stderr",
          "text": [
            "/usr/local/lib/python3.7/dist-packages/IPython/core/interactiveshell.py:2882: DtypeWarning: Columns (1,3,4,5,6,7,8,9,10,11,12,13,14,15,16,17,19,20,21,22,23,24,26,28,29,30,31,32,34,35,36,41,42,46,47,49,50,51,53,58,59,60,62,63,64,66,71,72,73,76,77,78,80,81,86,87,88,89) have mixed types.Specify dtype option on import or set low_memory=False.\n",
            "  exec(code_obj, self.user_global_ns, self.user_ns)\n"
          ]
        },
        {
          "output_type": "execute_result",
          "data": {
            "text/html": [
              "\n",
              "  <div id=\"df-7015dd32-f55b-4679-ae11-23b47b737bd0\">\n",
              "    <div class=\"colab-df-container\">\n",
              "      <div>\n",
              "<style scoped>\n",
              "    .dataframe tbody tr th:only-of-type {\n",
              "        vertical-align: middle;\n",
              "    }\n",
              "\n",
              "    .dataframe tbody tr th {\n",
              "        vertical-align: top;\n",
              "    }\n",
              "\n",
              "    .dataframe thead th {\n",
              "        text-align: right;\n",
              "    }\n",
              "</style>\n",
              "<table border=\"1\" class=\"dataframe\">\n",
              "  <thead>\n",
              "    <tr style=\"text-align: right;\">\n",
              "      <th></th>\n",
              "      <th>Task_ID</th>\n",
              "      <th>Order_ID</th>\n",
              "      <th>Relationship</th>\n",
              "      <th>Team_Name</th>\n",
              "      <th>Task_Type</th>\n",
              "      <th>Notes</th>\n",
              "      <th>Agent_ID</th>\n",
              "      <th>Distance(m)</th>\n",
              "      <th>Total_Time_Taken(min)</th>\n",
              "      <th>Pick_up_From</th>\n",
              "      <th>Start_Before</th>\n",
              "      <th>Complete_Before</th>\n",
              "      <th>Completion_Time</th>\n",
              "      <th>Task_Status</th>\n",
              "      <th>Ref_Images</th>\n",
              "      <th>Rating</th>\n",
              "      <th>Review</th>\n",
              "      <th>Latitude</th>\n",
              "      <th>Longitude</th>\n",
              "      <th>Tags</th>\n",
              "      <th>Promo_Applied</th>\n",
              "      <th>Custom_Template_ID</th>\n",
              "      <th>Task_Details_QTY</th>\n",
              "      <th>Task_Details_AMOUNT</th>\n",
              "      <th>Special_Instructions</th>\n",
              "      <th>Tip</th>\n",
              "      <th>Delivery_Charges</th>\n",
              "      <th>Discount</th>\n",
              "      <th>Subtotal</th>\n",
              "      <th>Payment_Type</th>\n",
              "      <th>Task_Category</th>\n",
              "      <th>Earning</th>\n",
              "      <th>Pricing</th>\n",
              "      <th>Order ID</th>\n",
              "      <th>Order Status</th>\n",
              "      <th>Category Name</th>\n",
              "      <th>SKU</th>\n",
              "      <th>Customization Group</th>\n",
              "      <th>Customization Option</th>\n",
              "      <th>Quantity</th>\n",
              "      <th>...</th>\n",
              "      <th>Additional Charge</th>\n",
              "      <th>Taxable Amount</th>\n",
              "      <th>Transaction ID</th>\n",
              "      <th>Currency Symbol</th>\n",
              "      <th>Transaction Status</th>\n",
              "      <th>Promo Code</th>\n",
              "      <th>Customer ID</th>\n",
              "      <th>Merchant ID</th>\n",
              "      <th>Store Name</th>\n",
              "      <th>Pickup Address</th>\n",
              "      <th>Description</th>\n",
              "      <th>Distance (in km)</th>\n",
              "      <th>Order Time</th>\n",
              "      <th>Pickup Time</th>\n",
              "      <th>Delivery Time</th>\n",
              "      <th>Ratings</th>\n",
              "      <th>Reviews</th>\n",
              "      <th>Merchant Earning</th>\n",
              "      <th>Commission Amount</th>\n",
              "      <th>Commission Payout Status</th>\n",
              "      <th>Order Preparation Time</th>\n",
              "      <th>Debt Amount</th>\n",
              "      <th>Redeemed Loyalty Points</th>\n",
              "      <th>Consumed Loyalty Points</th>\n",
              "      <th>Cancellation Reason</th>\n",
              "      <th>Flat Discount</th>\n",
              "      <th>Checkout Template Name</th>\n",
              "      <th>Checkout Template Value</th>\n",
              "      <th>Last Used Platform</th>\n",
              "      <th>Is Blocked</th>\n",
              "      <th>Created At</th>\n",
              "      <th>Language</th>\n",
              "      <th>Outstanding Amount</th>\n",
              "      <th>Loyalty Points</th>\n",
              "      <th>Number of Employees</th>\n",
              "      <th>Number of employees</th>\n",
              "      <th>Upload restuarant location</th>\n",
              "      <th>Agent_Name</th>\n",
              "      <th>Unnamed: 34</th>\n",
              "      <th>Unnamed: 35</th>\n",
              "    </tr>\n",
              "  </thead>\n",
              "  <tbody>\n",
              "    <tr>\n",
              "      <th>0</th>\n",
              "      <td>368032956.0</td>\n",
              "      <td>YR-11262518,0</td>\n",
              "      <td>3.680330e+29</td>\n",
              "      <td>Default Team</td>\n",
              "      <td>Delivery</td>\n",
              "      <td>NaN</td>\n",
              "      <td>1150142</td>\n",
              "      <td>-</td>\n",
              "      <td>-</td>\n",
              "      <td>Topup Mama</td>\n",
              "      <td>17 Feb 2022 12:04:02 pm</td>\n",
              "      <td>17 Feb 2022 02:30:00 pm</td>\n",
              "      <td>-</td>\n",
              "      <td>Assigned</td>\n",
              "      <td>-</td>\n",
              "      <td>0.0</td>\n",
              "      <td>-</td>\n",
              "      <td>6.544412</td>\n",
              "      <td>3.401738</td>\n",
              "      <td>NaN</td>\n",
              "      <td>-</td>\n",
              "      <td>Order_Details</td>\n",
              "      <td>5</td>\n",
              "      <td>₦ 104250.00</td>\n",
              "      <td>-</td>\n",
              "      <td>-</td>\n",
              "      <td>-</td>\n",
              "      <td>-</td>\n",
              "      <td>-</td>\n",
              "      <td>-</td>\n",
              "      <td>-</td>\n",
              "      <td>-</td>\n",
              "      <td>-</td>\n",
              "      <td>NaN</td>\n",
              "      <td>NaN</td>\n",
              "      <td>NaN</td>\n",
              "      <td>NaN</td>\n",
              "      <td>NaN</td>\n",
              "      <td>NaN</td>\n",
              "      <td>NaN</td>\n",
              "      <td>...</td>\n",
              "      <td>NaN</td>\n",
              "      <td>NaN</td>\n",
              "      <td>NaN</td>\n",
              "      <td>NaN</td>\n",
              "      <td>NaN</td>\n",
              "      <td>NaN</td>\n",
              "      <td>NaN</td>\n",
              "      <td>NaN</td>\n",
              "      <td>NaN</td>\n",
              "      <td>NaN</td>\n",
              "      <td>NaN</td>\n",
              "      <td>NaN</td>\n",
              "      <td>NaN</td>\n",
              "      <td>NaN</td>\n",
              "      <td>NaN</td>\n",
              "      <td>NaN</td>\n",
              "      <td>NaN</td>\n",
              "      <td>NaN</td>\n",
              "      <td>NaN</td>\n",
              "      <td>NaN</td>\n",
              "      <td>NaN</td>\n",
              "      <td>NaN</td>\n",
              "      <td>NaN</td>\n",
              "      <td>NaN</td>\n",
              "      <td>NaN</td>\n",
              "      <td>NaN</td>\n",
              "      <td>NaN</td>\n",
              "      <td>NaN</td>\n",
              "      <td>NaN</td>\n",
              "      <td>NaN</td>\n",
              "      <td>NaN</td>\n",
              "      <td>NaN</td>\n",
              "      <td>NaN</td>\n",
              "      <td>NaN</td>\n",
              "      <td>NaN</td>\n",
              "      <td>NaN</td>\n",
              "      <td>NaN</td>\n",
              "      <td>NaN</td>\n",
              "      <td>NaN</td>\n",
              "      <td>NaN</td>\n",
              "    </tr>\n",
              "    <tr>\n",
              "      <th>1</th>\n",
              "      <td>368032956.0</td>\n",
              "      <td>YR-11262518,0</td>\n",
              "      <td>3.680330e+29</td>\n",
              "      <td>Default Team</td>\n",
              "      <td>Delivery</td>\n",
              "      <td>NaN</td>\n",
              "      <td>1150142</td>\n",
              "      <td>-</td>\n",
              "      <td>-</td>\n",
              "      <td>Topup Mama</td>\n",
              "      <td>17 Feb 2022 12:04:02 pm</td>\n",
              "      <td>17 Feb 2022 02:30:00 pm</td>\n",
              "      <td>-</td>\n",
              "      <td>Assigned</td>\n",
              "      <td>-</td>\n",
              "      <td>0.0</td>\n",
              "      <td>-</td>\n",
              "      <td>6.544412</td>\n",
              "      <td>3.401738</td>\n",
              "      <td>NaN</td>\n",
              "      <td>-</td>\n",
              "      <td>Order_Details</td>\n",
              "      <td>1</td>\n",
              "      <td>₦ 325.00</td>\n",
              "      <td>-</td>\n",
              "      <td>₦ 0.00</td>\n",
              "      <td>₦ 0.00</td>\n",
              "      <td>₦ 0.00</td>\n",
              "      <td>104575</td>\n",
              "      <td>CASH</td>\n",
              "      <td>-</td>\n",
              "      <td>-</td>\n",
              "      <td>-</td>\n",
              "      <td>NaN</td>\n",
              "      <td>NaN</td>\n",
              "      <td>NaN</td>\n",
              "      <td>NaN</td>\n",
              "      <td>NaN</td>\n",
              "      <td>NaN</td>\n",
              "      <td>NaN</td>\n",
              "      <td>...</td>\n",
              "      <td>NaN</td>\n",
              "      <td>NaN</td>\n",
              "      <td>NaN</td>\n",
              "      <td>NaN</td>\n",
              "      <td>NaN</td>\n",
              "      <td>NaN</td>\n",
              "      <td>NaN</td>\n",
              "      <td>NaN</td>\n",
              "      <td>NaN</td>\n",
              "      <td>NaN</td>\n",
              "      <td>NaN</td>\n",
              "      <td>NaN</td>\n",
              "      <td>NaN</td>\n",
              "      <td>NaN</td>\n",
              "      <td>NaN</td>\n",
              "      <td>NaN</td>\n",
              "      <td>NaN</td>\n",
              "      <td>NaN</td>\n",
              "      <td>NaN</td>\n",
              "      <td>NaN</td>\n",
              "      <td>NaN</td>\n",
              "      <td>NaN</td>\n",
              "      <td>NaN</td>\n",
              "      <td>NaN</td>\n",
              "      <td>NaN</td>\n",
              "      <td>NaN</td>\n",
              "      <td>NaN</td>\n",
              "      <td>NaN</td>\n",
              "      <td>NaN</td>\n",
              "      <td>NaN</td>\n",
              "      <td>NaN</td>\n",
              "      <td>NaN</td>\n",
              "      <td>NaN</td>\n",
              "      <td>NaN</td>\n",
              "      <td>NaN</td>\n",
              "      <td>NaN</td>\n",
              "      <td>NaN</td>\n",
              "      <td>NaN</td>\n",
              "      <td>NaN</td>\n",
              "      <td>NaN</td>\n",
              "    </tr>\n",
              "    <tr>\n",
              "      <th>2</th>\n",
              "      <td>368012178.0</td>\n",
              "      <td>YR-11261796,0</td>\n",
              "      <td>3.680122e+29</td>\n",
              "      <td>Default Team</td>\n",
              "      <td>Delivery</td>\n",
              "      <td>NaN</td>\n",
              "      <td>1166840</td>\n",
              "      <td>11</td>\n",
              "      <td>-</td>\n",
              "      <td>Topup Mama</td>\n",
              "      <td>17 Feb 2022 11:10:30 am</td>\n",
              "      <td>17 Feb 2022 02:00:00 pm</td>\n",
              "      <td>-</td>\n",
              "      <td>In Transit</td>\n",
              "      <td>-</td>\n",
              "      <td>0.0</td>\n",
              "      <td>-</td>\n",
              "      <td>6.5558</td>\n",
              "      <td>3.392317</td>\n",
              "      <td>NaN</td>\n",
              "      <td>-</td>\n",
              "      <td>Order_Details</td>\n",
              "      <td>5</td>\n",
              "      <td>₦ 104250.00</td>\n",
              "      <td>-</td>\n",
              "      <td>-</td>\n",
              "      <td>-</td>\n",
              "      <td>-</td>\n",
              "      <td>-</td>\n",
              "      <td>-</td>\n",
              "      <td>-</td>\n",
              "      <td>-</td>\n",
              "      <td>-</td>\n",
              "      <td>NaN</td>\n",
              "      <td>NaN</td>\n",
              "      <td>NaN</td>\n",
              "      <td>NaN</td>\n",
              "      <td>NaN</td>\n",
              "      <td>NaN</td>\n",
              "      <td>NaN</td>\n",
              "      <td>...</td>\n",
              "      <td>NaN</td>\n",
              "      <td>NaN</td>\n",
              "      <td>NaN</td>\n",
              "      <td>NaN</td>\n",
              "      <td>NaN</td>\n",
              "      <td>NaN</td>\n",
              "      <td>NaN</td>\n",
              "      <td>NaN</td>\n",
              "      <td>NaN</td>\n",
              "      <td>NaN</td>\n",
              "      <td>NaN</td>\n",
              "      <td>NaN</td>\n",
              "      <td>NaN</td>\n",
              "      <td>NaN</td>\n",
              "      <td>NaN</td>\n",
              "      <td>NaN</td>\n",
              "      <td>NaN</td>\n",
              "      <td>NaN</td>\n",
              "      <td>NaN</td>\n",
              "      <td>NaN</td>\n",
              "      <td>NaN</td>\n",
              "      <td>NaN</td>\n",
              "      <td>NaN</td>\n",
              "      <td>NaN</td>\n",
              "      <td>NaN</td>\n",
              "      <td>NaN</td>\n",
              "      <td>NaN</td>\n",
              "      <td>NaN</td>\n",
              "      <td>NaN</td>\n",
              "      <td>NaN</td>\n",
              "      <td>NaN</td>\n",
              "      <td>NaN</td>\n",
              "      <td>NaN</td>\n",
              "      <td>NaN</td>\n",
              "      <td>NaN</td>\n",
              "      <td>NaN</td>\n",
              "      <td>NaN</td>\n",
              "      <td>NaN</td>\n",
              "      <td>NaN</td>\n",
              "      <td>NaN</td>\n",
              "    </tr>\n",
              "    <tr>\n",
              "      <th>3</th>\n",
              "      <td>368012178.0</td>\n",
              "      <td>YR-11261796,0</td>\n",
              "      <td>3.680122e+29</td>\n",
              "      <td>Default Team</td>\n",
              "      <td>Delivery</td>\n",
              "      <td>NaN</td>\n",
              "      <td>1166840</td>\n",
              "      <td>11</td>\n",
              "      <td>-</td>\n",
              "      <td>Topup Mama</td>\n",
              "      <td>17 Feb 2022 11:10:30 am</td>\n",
              "      <td>17 Feb 2022 02:00:00 pm</td>\n",
              "      <td>-</td>\n",
              "      <td>In Transit</td>\n",
              "      <td>-</td>\n",
              "      <td>0.0</td>\n",
              "      <td>-</td>\n",
              "      <td>6.5558</td>\n",
              "      <td>3.392317</td>\n",
              "      <td>NaN</td>\n",
              "      <td>-</td>\n",
              "      <td>Order_Details</td>\n",
              "      <td>1</td>\n",
              "      <td>₦ 325.00</td>\n",
              "      <td>-</td>\n",
              "      <td>₦ 0.00</td>\n",
              "      <td>₦ 0.00</td>\n",
              "      <td>₦ 0.00</td>\n",
              "      <td>104575</td>\n",
              "      <td>CASH</td>\n",
              "      <td>-</td>\n",
              "      <td>-</td>\n",
              "      <td>-</td>\n",
              "      <td>NaN</td>\n",
              "      <td>NaN</td>\n",
              "      <td>NaN</td>\n",
              "      <td>NaN</td>\n",
              "      <td>NaN</td>\n",
              "      <td>NaN</td>\n",
              "      <td>NaN</td>\n",
              "      <td>...</td>\n",
              "      <td>NaN</td>\n",
              "      <td>NaN</td>\n",
              "      <td>NaN</td>\n",
              "      <td>NaN</td>\n",
              "      <td>NaN</td>\n",
              "      <td>NaN</td>\n",
              "      <td>NaN</td>\n",
              "      <td>NaN</td>\n",
              "      <td>NaN</td>\n",
              "      <td>NaN</td>\n",
              "      <td>NaN</td>\n",
              "      <td>NaN</td>\n",
              "      <td>NaN</td>\n",
              "      <td>NaN</td>\n",
              "      <td>NaN</td>\n",
              "      <td>NaN</td>\n",
              "      <td>NaN</td>\n",
              "      <td>NaN</td>\n",
              "      <td>NaN</td>\n",
              "      <td>NaN</td>\n",
              "      <td>NaN</td>\n",
              "      <td>NaN</td>\n",
              "      <td>NaN</td>\n",
              "      <td>NaN</td>\n",
              "      <td>NaN</td>\n",
              "      <td>NaN</td>\n",
              "      <td>NaN</td>\n",
              "      <td>NaN</td>\n",
              "      <td>NaN</td>\n",
              "      <td>NaN</td>\n",
              "      <td>NaN</td>\n",
              "      <td>NaN</td>\n",
              "      <td>NaN</td>\n",
              "      <td>NaN</td>\n",
              "      <td>NaN</td>\n",
              "      <td>NaN</td>\n",
              "      <td>NaN</td>\n",
              "      <td>NaN</td>\n",
              "      <td>NaN</td>\n",
              "      <td>NaN</td>\n",
              "    </tr>\n",
              "    <tr>\n",
              "      <th>4</th>\n",
              "      <td>367999205.0</td>\n",
              "      <td>YR-11261341,0</td>\n",
              "      <td>3.679992e+29</td>\n",
              "      <td>Default Team</td>\n",
              "      <td>Delivery</td>\n",
              "      <td>NaN</td>\n",
              "      <td>1233220</td>\n",
              "      <td>-</td>\n",
              "      <td>-</td>\n",
              "      <td>Topup Mama</td>\n",
              "      <td>17 Feb 2022 10:33:11 am</td>\n",
              "      <td>17 Feb 2022 02:30:00 pm</td>\n",
              "      <td>-</td>\n",
              "      <td>Assigned</td>\n",
              "      <td>-</td>\n",
              "      <td>0.0</td>\n",
              "      <td>-</td>\n",
              "      <td>6.481961</td>\n",
              "      <td>3.347986</td>\n",
              "      <td>NaN</td>\n",
              "      <td>-</td>\n",
              "      <td>Order_Details</td>\n",
              "      <td>6</td>\n",
              "      <td>₦ 1950.00</td>\n",
              "      <td>-</td>\n",
              "      <td>-</td>\n",
              "      <td>-</td>\n",
              "      <td>-</td>\n",
              "      <td>-</td>\n",
              "      <td>-</td>\n",
              "      <td>-</td>\n",
              "      <td>-</td>\n",
              "      <td>-</td>\n",
              "      <td>NaN</td>\n",
              "      <td>NaN</td>\n",
              "      <td>NaN</td>\n",
              "      <td>NaN</td>\n",
              "      <td>NaN</td>\n",
              "      <td>NaN</td>\n",
              "      <td>NaN</td>\n",
              "      <td>...</td>\n",
              "      <td>NaN</td>\n",
              "      <td>NaN</td>\n",
              "      <td>NaN</td>\n",
              "      <td>NaN</td>\n",
              "      <td>NaN</td>\n",
              "      <td>NaN</td>\n",
              "      <td>NaN</td>\n",
              "      <td>NaN</td>\n",
              "      <td>NaN</td>\n",
              "      <td>NaN</td>\n",
              "      <td>NaN</td>\n",
              "      <td>NaN</td>\n",
              "      <td>NaN</td>\n",
              "      <td>NaN</td>\n",
              "      <td>NaN</td>\n",
              "      <td>NaN</td>\n",
              "      <td>NaN</td>\n",
              "      <td>NaN</td>\n",
              "      <td>NaN</td>\n",
              "      <td>NaN</td>\n",
              "      <td>NaN</td>\n",
              "      <td>NaN</td>\n",
              "      <td>NaN</td>\n",
              "      <td>NaN</td>\n",
              "      <td>NaN</td>\n",
              "      <td>NaN</td>\n",
              "      <td>NaN</td>\n",
              "      <td>NaN</td>\n",
              "      <td>NaN</td>\n",
              "      <td>NaN</td>\n",
              "      <td>NaN</td>\n",
              "      <td>NaN</td>\n",
              "      <td>NaN</td>\n",
              "      <td>NaN</td>\n",
              "      <td>NaN</td>\n",
              "      <td>NaN</td>\n",
              "      <td>NaN</td>\n",
              "      <td>NaN</td>\n",
              "      <td>NaN</td>\n",
              "      <td>NaN</td>\n",
              "    </tr>\n",
              "  </tbody>\n",
              "</table>\n",
              "<p>5 rows × 90 columns</p>\n",
              "</div>\n",
              "      <button class=\"colab-df-convert\" onclick=\"convertToInteractive('df-7015dd32-f55b-4679-ae11-23b47b737bd0')\"\n",
              "              title=\"Convert this dataframe to an interactive table.\"\n",
              "              style=\"display:none;\">\n",
              "        \n",
              "  <svg xmlns=\"http://www.w3.org/2000/svg\" height=\"24px\"viewBox=\"0 0 24 24\"\n",
              "       width=\"24px\">\n",
              "    <path d=\"M0 0h24v24H0V0z\" fill=\"none\"/>\n",
              "    <path d=\"M18.56 5.44l.94 2.06.94-2.06 2.06-.94-2.06-.94-.94-2.06-.94 2.06-2.06.94zm-11 1L8.5 8.5l.94-2.06 2.06-.94-2.06-.94L8.5 2.5l-.94 2.06-2.06.94zm10 10l.94 2.06.94-2.06 2.06-.94-2.06-.94-.94-2.06-.94 2.06-2.06.94z\"/><path d=\"M17.41 7.96l-1.37-1.37c-.4-.4-.92-.59-1.43-.59-.52 0-1.04.2-1.43.59L10.3 9.45l-7.72 7.72c-.78.78-.78 2.05 0 2.83L4 21.41c.39.39.9.59 1.41.59.51 0 1.02-.2 1.41-.59l7.78-7.78 2.81-2.81c.8-.78.8-2.07 0-2.86zM5.41 20L4 18.59l7.72-7.72 1.47 1.35L5.41 20z\"/>\n",
              "  </svg>\n",
              "      </button>\n",
              "      \n",
              "  <style>\n",
              "    .colab-df-container {\n",
              "      display:flex;\n",
              "      flex-wrap:wrap;\n",
              "      gap: 12px;\n",
              "    }\n",
              "\n",
              "    .colab-df-convert {\n",
              "      background-color: #E8F0FE;\n",
              "      border: none;\n",
              "      border-radius: 50%;\n",
              "      cursor: pointer;\n",
              "      display: none;\n",
              "      fill: #1967D2;\n",
              "      height: 32px;\n",
              "      padding: 0 0 0 0;\n",
              "      width: 32px;\n",
              "    }\n",
              "\n",
              "    .colab-df-convert:hover {\n",
              "      background-color: #E2EBFA;\n",
              "      box-shadow: 0px 1px 2px rgba(60, 64, 67, 0.3), 0px 1px 3px 1px rgba(60, 64, 67, 0.15);\n",
              "      fill: #174EA6;\n",
              "    }\n",
              "\n",
              "    [theme=dark] .colab-df-convert {\n",
              "      background-color: #3B4455;\n",
              "      fill: #D2E3FC;\n",
              "    }\n",
              "\n",
              "    [theme=dark] .colab-df-convert:hover {\n",
              "      background-color: #434B5C;\n",
              "      box-shadow: 0px 1px 3px 1px rgba(0, 0, 0, 0.15);\n",
              "      filter: drop-shadow(0px 1px 2px rgba(0, 0, 0, 0.3));\n",
              "      fill: #FFFFFF;\n",
              "    }\n",
              "  </style>\n",
              "\n",
              "      <script>\n",
              "        const buttonEl =\n",
              "          document.querySelector('#df-7015dd32-f55b-4679-ae11-23b47b737bd0 button.colab-df-convert');\n",
              "        buttonEl.style.display =\n",
              "          google.colab.kernel.accessAllowed ? 'block' : 'none';\n",
              "\n",
              "        async function convertToInteractive(key) {\n",
              "          const element = document.querySelector('#df-7015dd32-f55b-4679-ae11-23b47b737bd0');\n",
              "          const dataTable =\n",
              "            await google.colab.kernel.invokeFunction('convertToInteractive',\n",
              "                                                     [key], {});\n",
              "          if (!dataTable) return;\n",
              "\n",
              "          const docLinkHtml = 'Like what you see? Visit the ' +\n",
              "            '<a target=\"_blank\" href=https://colab.research.google.com/notebooks/data_table.ipynb>data table notebook</a>'\n",
              "            + ' to learn more about interactive tables.';\n",
              "          element.innerHTML = '';\n",
              "          dataTable['output_type'] = 'display_data';\n",
              "          await google.colab.output.renderOutput(dataTable, element);\n",
              "          const docLink = document.createElement('div');\n",
              "          docLink.innerHTML = docLinkHtml;\n",
              "          element.appendChild(docLink);\n",
              "        }\n",
              "      </script>\n",
              "    </div>\n",
              "  </div>\n",
              "  "
            ],
            "text/plain": [
              "       Task_ID       Order_ID  Relationship  ... Agent_Name Unnamed: 34 Unnamed: 35\n",
              "0  368032956.0  YR-11262518,0  3.680330e+29  ...        NaN         NaN         NaN\n",
              "1  368032956.0  YR-11262518,0  3.680330e+29  ...        NaN         NaN         NaN\n",
              "2  368012178.0  YR-11261796,0  3.680122e+29  ...        NaN         NaN         NaN\n",
              "3  368012178.0  YR-11261796,0  3.680122e+29  ...        NaN         NaN         NaN\n",
              "4  367999205.0  YR-11261341,0  3.679992e+29  ...        NaN         NaN         NaN\n",
              "\n",
              "[5 rows x 90 columns]"
            ]
          },
          "metadata": {},
          "execution_count": 2
        }
      ]
    },
    {
      "cell_type": "code",
      "source": [
        "df.describe"
      ],
      "metadata": {
        "colab": {
          "base_uri": "https://localhost:8080/"
        },
        "id": "J_2Cjhjjedbw",
        "outputId": "fb469321-a74f-417c-ff15-0c371d85cce6"
      },
      "execution_count": null,
      "outputs": [
        {
          "output_type": "execute_result",
          "data": {
            "text/plain": [
              "<bound method NDFrame.describe of            Task_ID       Order_ID  ...  Unnamed: 34 Unnamed: 35\n",
              "0      368032956.0  YR-11262518,0  ...          NaN         NaN\n",
              "1      368032956.0  YR-11262518,0  ...          NaN         NaN\n",
              "2      368012178.0  YR-11261796,0  ...          NaN         NaN\n",
              "3      368012178.0  YR-11261796,0  ...          NaN         NaN\n",
              "4      367999205.0  YR-11261341,0  ...          NaN         NaN\n",
              "...            ...            ...  ...          ...         ...\n",
              "71940          NaN            NaN  ...          NaN         NaN\n",
              "71941          NaN            NaN  ...          NaN         NaN\n",
              "71942          NaN            NaN  ...          NaN         NaN\n",
              "71943          NaN            NaN  ...          NaN         NaN\n",
              "71944          NaN            NaN  ...          NaN         NaN\n",
              "\n",
              "[71945 rows x 90 columns]>"
            ]
          },
          "metadata": {},
          "execution_count": 3
        }
      ]
    },
    {
      "cell_type": "markdown",
      "source": [
        "The data has so many columns, 90. We will therefore clean the data to remove any irrelevant data. This may be columns that have no entries.\n",
        "\n",
        "The goal is to predict customer retention. This means that some of the features/columns that we have in the merged file are not helpful to us at the moment. So we will drop these columns. Let us first have a look at the columns that we have in the merged file.\n"
      ],
      "metadata": {
        "id": "w9i1sNdYenZp"
      }
    },
    {
      "cell_type": "code",
      "source": [
        "columns = df.columns.values.tolist()\n",
        "print(columns)"
      ],
      "metadata": {
        "colab": {
          "base_uri": "https://localhost:8080/"
        },
        "id": "QWSAceZnfn3V",
        "outputId": "3de2b799-eec2-4707-ca5a-918531afbf1c"
      },
      "execution_count": null,
      "outputs": [
        {
          "output_type": "stream",
          "name": "stdout",
          "text": [
            "['Task_ID', 'Order_ID', 'Relationship', 'Team_Name', 'Task_Type', 'Notes', 'Agent_ID', 'Distance(m)', 'Total_Time_Taken(min)', 'Pick_up_From', 'Start_Before', 'Complete_Before', 'Completion_Time', 'Task_Status', 'Ref_Images', 'Rating', 'Review', 'Latitude', 'Longitude', 'Tags', 'Promo_Applied', 'Custom_Template_ID', 'Task_Details_QTY', 'Task_Details_AMOUNT', 'Special_Instructions', 'Tip', 'Delivery_Charges', 'Discount', 'Subtotal', 'Payment_Type', 'Task_Category', 'Earning', 'Pricing', 'Order ID', 'Order Status', 'Category Name', 'SKU', 'Customization Group', 'Customization Option', 'Quantity', 'Unit Price', 'Cost Price', 'Total Cost Price', 'Total Price', 'Order Total', 'Sub Total', 'Tax', 'Delivery Charge', 'Remaining Balance', 'Payment Method', 'Additional Charge', 'Taxable Amount', 'Transaction ID', 'Currency Symbol', 'Transaction Status', 'Promo Code', 'Customer ID', 'Merchant ID', 'Store Name', 'Pickup Address', 'Description', 'Distance (in km)', 'Order Time', 'Pickup Time', 'Delivery Time', 'Ratings', 'Reviews', 'Merchant Earning', 'Commission Amount', 'Commission Payout Status', 'Order Preparation Time', 'Debt Amount', 'Redeemed Loyalty Points', 'Consumed Loyalty Points', 'Cancellation Reason', 'Flat Discount', 'Checkout Template Name', 'Checkout Template Value', 'Last Used Platform', 'Is Blocked', 'Created At', 'Language', 'Outstanding Amount', 'Loyalty Points', 'Number of Employees', 'Number of employees', 'Upload restuarant location', 'Agent_Name', 'Unnamed: 34', 'Unnamed: 35']\n"
          ]
        }
      ]
    },
    {
      "cell_type": "code",
      "source": [
        "df.hist(figsize=(20,20))\n",
        "plt.show()"
      ],
      "metadata": {
        "colab": {
          "base_uri": "https://localhost:8080/",
          "height": 1000
        },
        "id": "HhJmNch2Herr",
        "outputId": "7f68bfaa-bddc-4173-edee-73491b866640"
      },
      "execution_count": null,
      "outputs": [
        {
          "output_type": "display_data",
          "data": {
            "image/png": "[encoded data removed]",
            "text/plain": [
              "<Figure size 1440x1440 with 30 Axes>"
            ]
          },
          "metadata": {
            "needs_background": "light"
          }
        }
      ]
    },
    {
      "cell_type": "markdown",
      "source": [
        "## **Data Cleaning**"
      ],
      "metadata": {
        "id": "6G9UhCzXXHqD"
      }
    },
    {
      "cell_type": "markdown",
      "source": [
        "**Dropping Features**\n",
        "\n",
        "Features like IDs, Distance, Relationship, and others that do not have a direct impact on the customer will be eliminated."
      ],
      "metadata": {
        "id": "7tDXTe7zfuqF"
      }
    },
    {
      "cell_type": "code",
      "source": [
        "#Dropping columns we don't need\n",
        "df1 = df.drop(['Discount','Delivery_Charges','Total Cost Price','Pricing','Reviews','Ratings','Taxable Amount','Additional Charge','Order Preparation Time','Delivery Time','Delivery Charge','Notes','Task_ID','Order_ID','Customer ID','Cancellation Reason','Team_Name','Relationship','Task_Type','Agent_ID','Distance(m)','Pick_up_From','Start_Before','Complete_Before','Completion_Time','Task_Status','Ref_Images','Rating','Review','Latitude','Longitude', 'Tags', 'Promo_Applied', 'Custom_Template_ID', 'Task_Details_QTY', 'Task_Details_AMOUNT','Special_Instructions', 'Tip', 'Subtotal', 'Task_Category', 'Earning','Order ID', 'Order Status', 'Category Name', 'SKU', 'Customization Group', 'Customization Option', 'Quantity', 'Unit Price', 'Cost Price', 'Order Total', 'Sub Total', 'Tax','Remaining Balance', 'Payment Method','Transaction ID','Currency Symbol', 'Transaction Status', 'Promo Code', 'Customer ID', 'Merchant ID', 'Store Name', 'Pickup Address', 'Description', 'Distance (in km)', 'Order Time', 'Pickup Time','Merchant Earning', 'Commission Amount', 'Commission Payout Status','Debt Amount', 'Redeemed Loyalty Points', 'Consumed Loyalty Points','Flat Discount', 'Checkout Template Name', 'Checkout Template Value', 'Last Used Platform', 'Is Blocked','Created At', 'Language', 'Outstanding Amount','Number of Employees', 'Number of employees', 'Upload restuarant location', 'Agent_Name', 'Unnamed: 34', 'Unnamed: 35' ], axis =1)"
      ],
      "metadata": {
        "id": "mOakBxjXelYH"
      },
      "execution_count": 189,
      "outputs": []
    },
    {
      "cell_type": "code",
      "source": [
        "columns = df1.columns.values.tolist()\n",
        "print(columns)"
      ],
      "metadata": {
        "colab": {
          "base_uri": "https://localhost:8080/"
        },
        "id": "OVK1qFV8iX-W",
        "outputId": "7b689bba-6ead-4950-8251-e6349898543b"
      },
      "execution_count": 190,
      "outputs": [
        {
          "output_type": "stream",
          "name": "stdout",
          "text": [
            "['Total_Time_Taken(min)', 'Payment_Type', 'Total Price', 'Loyalty Points']\n"
          ]
        }
      ]
    },
    {
      "cell_type": "code",
      "source": [
        "df1.shape"
      ],
      "metadata": {
        "colab": {
          "base_uri": "https://localhost:8080/"
        },
        "id": "vLzvKHFkid-K",
        "outputId": "2437d082-b47b-49fe-ff0b-ff1c98fb197d"
      },
      "execution_count": 191,
      "outputs": [
        {
          "output_type": "execute_result",
          "data": {
            "text/plain": [
              "(71945, 4)"
            ]
          },
          "metadata": {},
          "execution_count": 191
        }
      ]
    },
    {
      "cell_type": "code",
      "source": [
        "df1.dtypes"
      ],
      "metadata": {
        "colab": {
          "base_uri": "https://localhost:8080/"
        },
        "id": "TgONpgbJipdr",
        "outputId": "1e165c96-d250-4d1a-abf8-7744d46e1803"
      },
      "execution_count": 192,
      "outputs": [
        {
          "output_type": "execute_result",
          "data": {
            "text/plain": [
              "Total_Time_Taken(min)     object\n",
              "Payment_Type              object\n",
              "Total Price              float64\n",
              "Loyalty Points           float64\n",
              "dtype: object"
            ]
          },
          "metadata": {},
          "execution_count": 192
        }
      ]
    },
    {
      "cell_type": "code",
      "source": [
        "print(df1['Total Price'])"
      ],
      "metadata": {
        "colab": {
          "base_uri": "https://localhost:8080/"
        },
        "id": "0_jYhuhRRKRv",
        "outputId": "2021c048-d5cf-4f03-e662-6adb918c333d"
      },
      "execution_count": 181,
      "outputs": [
        {
          "output_type": "stream",
          "name": "stdout",
          "text": [
            "0             NaN\n",
            "1             NaN\n",
            "2             NaN\n",
            "3             NaN\n",
            "4             NaN\n",
            "           ...   \n",
            "71940     13200.0\n",
            "71941     13200.0\n",
            "71942    210500.0\n",
            "71943    105250.0\n",
            "71944     21050.0\n",
            "Name: Total Price, Length: 71945, dtype: float64\n"
          ]
        }
      ]
    },
    {
      "cell_type": "code",
      "source": [
        "df1['Total Price'] = df['Total Price'].fillna(0)"
      ],
      "metadata": {
        "id": "XxsYJOblRVuw"
      },
      "execution_count": 182,
      "outputs": []
    },
    {
      "cell_type": "code",
      "source": [
        "# Separate data into categorical and numerical \n",
        "df1.select_dtypes('object').head()"
      ],
      "metadata": {
        "colab": {
          "base_uri": "https://localhost:8080/",
          "height": 206
        },
        "id": "UuPy3AX3BFvj",
        "outputId": "eca9f816-636d-4c68-c1c6-1c7438c63202"
      },
      "execution_count": 193,
      "outputs": [
        {
          "output_type": "execute_result",
          "data": {
            "text/html": [
              "\n",
              "  <div id=\"df-765b0c72-a803-4193-bc87-33ab5a94cfe1\">\n",
              "    <div class=\"colab-df-container\">\n",
              "      <div>\n",
              "<style scoped>\n",
              "    .dataframe tbody tr th:only-of-type {\n",
              "        vertical-align: middle;\n",
              "    }\n",
              "\n",
              "    .dataframe tbody tr th {\n",
              "        vertical-align: top;\n",
              "    }\n",
              "\n",
              "    .dataframe thead th {\n",
              "        text-align: right;\n",
              "    }\n",
              "</style>\n",
              "<table border=\"1\" class=\"dataframe\">\n",
              "  <thead>\n",
              "    <tr style=\"text-align: right;\">\n",
              "      <th></th>\n",
              "      <th>Total_Time_Taken(min)</th>\n",
              "      <th>Payment_Type</th>\n",
              "    </tr>\n",
              "  </thead>\n",
              "  <tbody>\n",
              "    <tr>\n",
              "      <th>0</th>\n",
              "      <td>-</td>\n",
              "      <td>-</td>\n",
              "    </tr>\n",
              "    <tr>\n",
              "      <th>1</th>\n",
              "      <td>-</td>\n",
              "      <td>CASH</td>\n",
              "    </tr>\n",
              "    <tr>\n",
              "      <th>2</th>\n",
              "      <td>-</td>\n",
              "      <td>-</td>\n",
              "    </tr>\n",
              "    <tr>\n",
              "      <th>3</th>\n",
              "      <td>-</td>\n",
              "      <td>CASH</td>\n",
              "    </tr>\n",
              "    <tr>\n",
              "      <th>4</th>\n",
              "      <td>-</td>\n",
              "      <td>-</td>\n",
              "    </tr>\n",
              "  </tbody>\n",
              "</table>\n",
              "</div>\n",
              "      <button class=\"colab-df-convert\" onclick=\"convertToInteractive('df-765b0c72-a803-4193-bc87-33ab5a94cfe1')\"\n",
              "              title=\"Convert this dataframe to an interactive table.\"\n",
              "              style=\"display:none;\">\n",
              "        \n",
              "  <svg xmlns=\"http://www.w3.org/2000/svg\" height=\"24px\"viewBox=\"0 0 24 24\"\n",
              "       width=\"24px\">\n",
              "    <path d=\"M0 0h24v24H0V0z\" fill=\"none\"/>\n",
              "    <path d=\"M18.56 5.44l.94 2.06.94-2.06 2.06-.94-2.06-.94-.94-2.06-.94 2.06-2.06.94zm-11 1L8.5 8.5l.94-2.06 2.06-.94-2.06-.94L8.5 2.5l-.94 2.06-2.06.94zm10 10l.94 2.06.94-2.06 2.06-.94-2.06-.94-.94-2.06-.94 2.06-2.06.94z\"/><path d=\"M17.41 7.96l-1.37-1.37c-.4-.4-.92-.59-1.43-.59-.52 0-1.04.2-1.43.59L10.3 9.45l-7.72 7.72c-.78.78-.78 2.05 0 2.83L4 21.41c.39.39.9.59 1.41.59.51 0 1.02-.2 1.41-.59l7.78-7.78 2.81-2.81c.8-.78.8-2.07 0-2.86zM5.41 20L4 18.59l7.72-7.72 1.47 1.35L5.41 20z\"/>\n",
              "  </svg>\n",
              "      </button>\n",
              "      \n",
              "  <style>\n",
              "    .colab-df-container {\n",
              "      display:flex;\n",
              "      flex-wrap:wrap;\n",
              "      gap: 12px;\n",
              "    }\n",
              "\n",
              "    .colab-df-convert {\n",
              "      background-color: #E8F0FE;\n",
              "      border: none;\n",
              "      border-radius: 50%;\n",
              "      cursor: pointer;\n",
              "      display: none;\n",
              "      fill: #1967D2;\n",
              "      height: 32px;\n",
              "      padding: 0 0 0 0;\n",
              "      width: 32px;\n",
              "    }\n",
              "\n",
              "    .colab-df-convert:hover {\n",
              "      background-color: #E2EBFA;\n",
              "      box-shadow: 0px 1px 2px rgba(60, 64, 67, 0.3), 0px 1px 3px 1px rgba(60, 64, 67, 0.15);\n",
              "      fill: #174EA6;\n",
              "    }\n",
              "\n",
              "    [theme=dark] .colab-df-convert {\n",
              "      background-color: #3B4455;\n",
              "      fill: #D2E3FC;\n",
              "    }\n",
              "\n",
              "    [theme=dark] .colab-df-convert:hover {\n",
              "      background-color: #434B5C;\n",
              "      box-shadow: 0px 1px 3px 1px rgba(0, 0, 0, 0.15);\n",
              "      filter: drop-shadow(0px 1px 2px rgba(0, 0, 0, 0.3));\n",
              "      fill: #FFFFFF;\n",
              "    }\n",
              "  </style>\n",
              "\n",
              "      <script>\n",
              "        const buttonEl =\n",
              "          document.querySelector('#df-765b0c72-a803-4193-bc87-33ab5a94cfe1 button.colab-df-convert');\n",
              "        buttonEl.style.display =\n",
              "          google.colab.kernel.accessAllowed ? 'block' : 'none';\n",
              "\n",
              "        async function convertToInteractive(key) {\n",
              "          const element = document.querySelector('#df-765b0c72-a803-4193-bc87-33ab5a94cfe1');\n",
              "          const dataTable =\n",
              "            await google.colab.kernel.invokeFunction('convertToInteractive',\n",
              "                                                     [key], {});\n",
              "          if (!dataTable) return;\n",
              "\n",
              "          const docLinkHtml = 'Like what you see? Visit the ' +\n",
              "            '<a target=\"_blank\" href=https://colab.research.google.com/notebooks/data_table.ipynb>data table notebook</a>'\n",
              "            + ' to learn more about interactive tables.';\n",
              "          element.innerHTML = '';\n",
              "          dataTable['output_type'] = 'display_data';\n",
              "          await google.colab.output.renderOutput(dataTable, element);\n",
              "          const docLink = document.createElement('div');\n",
              "          docLink.innerHTML = docLinkHtml;\n",
              "          element.appendChild(docLink);\n",
              "        }\n",
              "      </script>\n",
              "    </div>\n",
              "  </div>\n",
              "  "
            ],
            "text/plain": [
              "  Total_Time_Taken(min) Payment_Type\n",
              "0                     -            -\n",
              "1                     -         CASH\n",
              "2                     -            -\n",
              "3                     -         CASH\n",
              "4                     -            -"
            ]
          },
          "metadata": {},
          "execution_count": 193
        }
      ]
    },
    {
      "cell_type": "code",
      "source": [
        "df1['Delivery_Charges'].replace(\"₦\", \"\", inplace=True)\n",
        "print(df1)"
      ],
      "metadata": {
        "colab": {
          "base_uri": "https://localhost:8080/"
        },
        "id": "fzRS_hYTBusW",
        "outputId": "5a83c3e4-98f6-4303-e5ac-7901c178e0b4"
      },
      "execution_count": 168,
      "outputs": [
        {
          "output_type": "stream",
          "name": "stdout",
          "text": [
            "      Total_Time_Taken(min) Delivery_Charges  ... Total Price Loyalty Points\n",
            "0                         -                -  ...         NaN            NaN\n",
            "1                         -           ₦ 0.00  ...         NaN            NaN\n",
            "2                         -                -  ...         NaN            NaN\n",
            "3                         -           ₦ 0.00  ...         NaN            NaN\n",
            "4                         -                -  ...         NaN            NaN\n",
            "...                     ...              ...  ...         ...            ...\n",
            "71940                   NaN              NaN  ...     13200.0            NaN\n",
            "71941                   NaN              NaN  ...     13200.0            NaN\n",
            "71942                   NaN              NaN  ...    210500.0            NaN\n",
            "71943                   NaN              NaN  ...    105250.0            NaN\n",
            "71944                   NaN              NaN  ...     21050.0            NaN\n",
            "\n",
            "[71945 rows x 6 columns]\n"
          ]
        }
      ]
    },
    {
      "cell_type": "code",
      "source": [
        "df1['Loyalty Points'] = df1['Loyalty Points'].fillna(0)\n",
        "print(df1)"
      ],
      "metadata": {
        "colab": {
          "base_uri": "https://localhost:8080/"
        },
        "id": "cmkrEgV8CNYM",
        "outputId": "05600afc-dad1-4e7c-f86b-563d672c0e18"
      },
      "execution_count": 197,
      "outputs": [
        {
          "output_type": "stream",
          "name": "stdout",
          "text": [
            "      Total_Time_Taken(min) Payment_Type  Total Price  Loyalty Points\n",
            "0                         0            -          0.0             0.0\n",
            "1                         0         CASH          0.0             0.0\n",
            "2                         0            -          0.0             0.0\n",
            "3                         0         CASH          0.0             0.0\n",
            "4                         0            -          0.0             0.0\n",
            "...                     ...          ...          ...             ...\n",
            "71940                     0          NaN      13200.0             0.0\n",
            "71941                     0          NaN      13200.0             0.0\n",
            "71942                     0          NaN     210500.0             0.0\n",
            "71943                     0          NaN     105250.0             0.0\n",
            "71944                     0          NaN      21050.0             0.0\n",
            "\n",
            "[71945 rows x 4 columns]\n"
          ]
        }
      ]
    },
    {
      "cell_type": "code",
      "source": [
        "#Replacing string values (-) from Time Feature\n",
        "df1['Total_Time_Taken(min)'].replace(\"-\", 0, inplace=True)\n",
        "print(df1)"
      ],
      "metadata": {
        "id": "2HSkdRWMmQza",
        "colab": {
          "base_uri": "https://localhost:8080/"
        },
        "outputId": "5c754959-a75e-4637-ca90-6d273cf76e1e"
      },
      "execution_count": 198,
      "outputs": [
        {
          "output_type": "stream",
          "name": "stdout",
          "text": [
            "      Total_Time_Taken(min) Payment_Type  Total Price  Loyalty Points\n",
            "0                         0            -          0.0             0.0\n",
            "1                         0         CASH          0.0             0.0\n",
            "2                         0            -          0.0             0.0\n",
            "3                         0         CASH          0.0             0.0\n",
            "4                         0            -          0.0             0.0\n",
            "...                     ...          ...          ...             ...\n",
            "71940                     0          NaN      13200.0             0.0\n",
            "71941                     0          NaN      13200.0             0.0\n",
            "71942                     0          NaN     210500.0             0.0\n",
            "71943                     0          NaN     105250.0             0.0\n",
            "71944                     0          NaN      21050.0             0.0\n",
            "\n",
            "[71945 rows x 4 columns]\n"
          ]
        }
      ]
    },
    {
      "cell_type": "code",
      "source": [
        "df2 = df1.drop(['Payment_Type'], axis = 1)\n",
        "print(df2)"
      ],
      "metadata": {
        "id": "ImNZYG4pvPS5",
        "colab": {
          "base_uri": "https://localhost:8080/"
        },
        "outputId": "8a988630-14c5-4b8e-9037-d8aa1295b8c7"
      },
      "execution_count": 201,
      "outputs": [
        {
          "output_type": "stream",
          "name": "stdout",
          "text": [
            "      Total_Time_Taken(min)  Total Price  Loyalty Points\n",
            "0                         0          0.0             0.0\n",
            "1                         0          0.0             0.0\n",
            "2                         0          0.0             0.0\n",
            "3                         0          0.0             0.0\n",
            "4                         0          0.0             0.0\n",
            "...                     ...          ...             ...\n",
            "71940                     0      13200.0             0.0\n",
            "71941                     0      13200.0             0.0\n",
            "71942                     0     210500.0             0.0\n",
            "71943                     0     105250.0             0.0\n",
            "71944                     0      21050.0             0.0\n",
            "\n",
            "[71945 rows x 3 columns]\n"
          ]
        }
      ]
    },
    {
      "cell_type": "markdown",
      "source": [
        "## **Data Preprocessing**"
      ],
      "metadata": {
        "id": "sfNBt7ydtS6N"
      }
    },
    {
      "cell_type": "code",
      "source": [
        "X =  df2.drop(['Total Price'], axis=1)\n",
        "y = df2['Total Price']"
      ],
      "metadata": {
        "id": "hfsCrcazqBot"
      },
      "execution_count": 236,
      "outputs": []
    },
    {
      "cell_type": "markdown",
      "source": [
        "We are going to predict customer retention based on the total price of the order. We will use logistic regression for this purpose."
      ],
      "metadata": {
        "id": "kg43CRDUKuaR"
      }
    },
    {
      "cell_type": "markdown",
      "source": [
        "**Splitting the data into training and testing data.**"
      ],
      "metadata": {
        "id": "sNk9UcyGukeO"
      }
    },
    {
      "cell_type": "code",
      "source": [
        "from sklearn.model_selection import train_test_split\n",
        "X_train, X_test, y_train, y_test = train_test_split(X, y, test_size = 0.2, random_state = 0)"
      ],
      "metadata": {
        "id": "QUqLN1R1ubxH"
      },
      "execution_count": 237,
      "outputs": []
    },
    {
      "cell_type": "markdown",
      "source": [
        "**Training the logistic regression model**"
      ],
      "metadata": {
        "id": "PRoeEfVGu7bG"
      }
    },
    {
      "cell_type": "code",
      "source": [
        "from sklearn.linear_model import LogisticRegression \n",
        "logreg=LogisticRegression()\n",
        "logreg.fit(X_train,y_train)\n",
        "prediction_logreg=logreg.predict(X_test)\n",
        "print(accuracy_score(y_test,prediction_logreg))"
      ],
      "metadata": {
        "colab": {
          "base_uri": "https://localhost:8080/"
        },
        "id": "kGF8kJi5IGKs",
        "outputId": "926adc39-7dcf-4b59-c17c-a9e120062e14"
      },
      "execution_count": 227,
      "outputs": [
        {
          "output_type": "stream",
          "name": "stdout",
          "text": [
            "0.8094377649593439\n"
          ]
        },
        {
          "output_type": "stream",
          "name": "stderr",
          "text": [
            "/usr/local/lib/python3.7/dist-packages/sklearn/linear_model/_logistic.py:818: ConvergenceWarning: lbfgs failed to converge (status=1):\n",
            "STOP: TOTAL NO. of ITERATIONS REACHED LIMIT.\n",
            "\n",
            "Increase the number of iterations (max_iter) or scale the data as shown in:\n",
            "    https://scikit-learn.org/stable/modules/preprocessing.html\n",
            "Please also refer to the documentation for alternative solver options:\n",
            "    https://scikit-learn.org/stable/modules/linear_model.html#logistic-regression\n",
            "  extra_warning_msg=_LOGISTIC_SOLVER_CONVERGENCE_MSG,\n"
          ]
        }
      ]
    },
    {
      "cell_type": "markdown",
      "source": [
        "Our model predicts retention with an accuracy of 80%. "
      ],
      "metadata": {
        "id": "Vp-97Z2BMPj9"
      }
    },
    {
      "cell_type": "markdown",
      "source": [
        "# **2. CLASSIFICATION OF CUSTOMERS**"
      ],
      "metadata": {
        "id": "fmCLeMDz2PSI"
      }
    },
    {
      "cell_type": "markdown",
      "source": [
        "We will try and classify customers as loyal and not loyal. To do this, we will use the loyalty points feature. Those with more than 300 loyalty points will be classified as loyal and those with less than 300 will be classified as not loyal."
      ],
      "metadata": {
        "id": "xd9ozc2nayyz"
      }
    },
    {
      "cell_type": "code",
      "source": [
        "import pandas as pd\n",
        "import numpy as np\n",
        "from sklearn import preprocessing\n",
        "import matplotlib.pyplot as plt \n",
        "plt.rc(\"font\", size=14)\n",
        "from sklearn.linear_model import LogisticRegression\n",
        "from sklearn.model_selection import train_test_split\n",
        "from sklearn.tree import DecisionTreeClassifier\n",
        "import seaborn as sns\n",
        "sns.set(style=\"white\")\n",
        "sns.set(style=\"whitegrid\", color_codes=True)"
      ],
      "metadata": {
        "id": "EnyUoe3I2XVW"
      },
      "execution_count": 60,
      "outputs": []
    },
    {
      "cell_type": "code",
      "source": [
        "data = df\n",
        "data.head(5)"
      ],
      "metadata": {
        "colab": {
          "base_uri": "https://localhost:8080/",
          "height": 421
        },
        "id": "qJt2oZcqUCJv",
        "outputId": "b521e0f7-95aa-4faf-d1ac-9ea4233bbc65"
      },
      "execution_count": 140,
      "outputs": [
        {
          "output_type": "execute_result",
          "data": {
            "text/html": [
              "\n",
              "  <div id=\"df-2fe6c77a-b7fe-439c-a8d5-f0b7e3d94efe\">\n",
              "    <div class=\"colab-df-container\">\n",
              "      <div>\n",
              "<style scoped>\n",
              "    .dataframe tbody tr th:only-of-type {\n",
              "        vertical-align: middle;\n",
              "    }\n",
              "\n",
              "    .dataframe tbody tr th {\n",
              "        vertical-align: top;\n",
              "    }\n",
              "\n",
              "    .dataframe thead th {\n",
              "        text-align: right;\n",
              "    }\n",
              "</style>\n",
              "<table border=\"1\" class=\"dataframe\">\n",
              "  <thead>\n",
              "    <tr style=\"text-align: right;\">\n",
              "      <th></th>\n",
              "      <th>Task_ID</th>\n",
              "      <th>Order_ID</th>\n",
              "      <th>Relationship</th>\n",
              "      <th>Team_Name</th>\n",
              "      <th>Task_Type</th>\n",
              "      <th>Notes</th>\n",
              "      <th>Agent_ID</th>\n",
              "      <th>Distance(m)</th>\n",
              "      <th>Total_Time_Taken(min)</th>\n",
              "      <th>Pick_up_From</th>\n",
              "      <th>Start_Before</th>\n",
              "      <th>Complete_Before</th>\n",
              "      <th>Completion_Time</th>\n",
              "      <th>Task_Status</th>\n",
              "      <th>Ref_Images</th>\n",
              "      <th>Rating</th>\n",
              "      <th>Review</th>\n",
              "      <th>Latitude</th>\n",
              "      <th>Longitude</th>\n",
              "      <th>Tags</th>\n",
              "      <th>Promo_Applied</th>\n",
              "      <th>Custom_Template_ID</th>\n",
              "      <th>Task_Details_QTY</th>\n",
              "      <th>Task_Details_AMOUNT</th>\n",
              "      <th>Special_Instructions</th>\n",
              "      <th>Tip</th>\n",
              "      <th>Delivery_Charges</th>\n",
              "      <th>Discount</th>\n",
              "      <th>Subtotal</th>\n",
              "      <th>Payment_Type</th>\n",
              "      <th>Task_Category</th>\n",
              "      <th>Earning</th>\n",
              "      <th>Pricing</th>\n",
              "      <th>Order ID</th>\n",
              "      <th>Order Status</th>\n",
              "      <th>Category Name</th>\n",
              "      <th>SKU</th>\n",
              "      <th>Customization Group</th>\n",
              "      <th>Customization Option</th>\n",
              "      <th>Quantity</th>\n",
              "      <th>...</th>\n",
              "      <th>Additional Charge</th>\n",
              "      <th>Taxable Amount</th>\n",
              "      <th>Transaction ID</th>\n",
              "      <th>Currency Symbol</th>\n",
              "      <th>Transaction Status</th>\n",
              "      <th>Promo Code</th>\n",
              "      <th>Customer ID</th>\n",
              "      <th>Merchant ID</th>\n",
              "      <th>Store Name</th>\n",
              "      <th>Pickup Address</th>\n",
              "      <th>Description</th>\n",
              "      <th>Distance (in km)</th>\n",
              "      <th>Order Time</th>\n",
              "      <th>Pickup Time</th>\n",
              "      <th>Delivery Time</th>\n",
              "      <th>Ratings</th>\n",
              "      <th>Reviews</th>\n",
              "      <th>Merchant Earning</th>\n",
              "      <th>Commission Amount</th>\n",
              "      <th>Commission Payout Status</th>\n",
              "      <th>Order Preparation Time</th>\n",
              "      <th>Debt Amount</th>\n",
              "      <th>Redeemed Loyalty Points</th>\n",
              "      <th>Consumed Loyalty Points</th>\n",
              "      <th>Cancellation Reason</th>\n",
              "      <th>Flat Discount</th>\n",
              "      <th>Checkout Template Name</th>\n",
              "      <th>Checkout Template Value</th>\n",
              "      <th>Last Used Platform</th>\n",
              "      <th>Is Blocked</th>\n",
              "      <th>Created At</th>\n",
              "      <th>Language</th>\n",
              "      <th>Outstanding Amount</th>\n",
              "      <th>Loyalty Points</th>\n",
              "      <th>Number of Employees</th>\n",
              "      <th>Number of employees</th>\n",
              "      <th>Upload restuarant location</th>\n",
              "      <th>Agent_Name</th>\n",
              "      <th>Unnamed: 34</th>\n",
              "      <th>Unnamed: 35</th>\n",
              "    </tr>\n",
              "  </thead>\n",
              "  <tbody>\n",
              "    <tr>\n",
              "      <th>0</th>\n",
              "      <td>368032956.0</td>\n",
              "      <td>YR-11262518,0</td>\n",
              "      <td>3.680330e+29</td>\n",
              "      <td>Default Team</td>\n",
              "      <td>Delivery</td>\n",
              "      <td>NaN</td>\n",
              "      <td>1150142</td>\n",
              "      <td>-</td>\n",
              "      <td>-</td>\n",
              "      <td>Topup Mama</td>\n",
              "      <td>17 Feb 2022 12:04:02 pm</td>\n",
              "      <td>17 Feb 2022 02:30:00 pm</td>\n",
              "      <td>-</td>\n",
              "      <td>Assigned</td>\n",
              "      <td>-</td>\n",
              "      <td>0.0</td>\n",
              "      <td>-</td>\n",
              "      <td>6.544412</td>\n",
              "      <td>3.401738</td>\n",
              "      <td>NaN</td>\n",
              "      <td>-</td>\n",
              "      <td>Order_Details</td>\n",
              "      <td>5</td>\n",
              "      <td>₦ 104250.00</td>\n",
              "      <td>-</td>\n",
              "      <td>-</td>\n",
              "      <td>-</td>\n",
              "      <td>-</td>\n",
              "      <td>-</td>\n",
              "      <td>-</td>\n",
              "      <td>-</td>\n",
              "      <td>-</td>\n",
              "      <td>-</td>\n",
              "      <td>NaN</td>\n",
              "      <td>NaN</td>\n",
              "      <td>NaN</td>\n",
              "      <td>NaN</td>\n",
              "      <td>NaN</td>\n",
              "      <td>NaN</td>\n",
              "      <td>NaN</td>\n",
              "      <td>...</td>\n",
              "      <td>NaN</td>\n",
              "      <td>NaN</td>\n",
              "      <td>NaN</td>\n",
              "      <td>NaN</td>\n",
              "      <td>NaN</td>\n",
              "      <td>NaN</td>\n",
              "      <td>NaN</td>\n",
              "      <td>NaN</td>\n",
              "      <td>NaN</td>\n",
              "      <td>NaN</td>\n",
              "      <td>NaN</td>\n",
              "      <td>NaN</td>\n",
              "      <td>NaN</td>\n",
              "      <td>NaN</td>\n",
              "      <td>NaN</td>\n",
              "      <td>NaN</td>\n",
              "      <td>NaN</td>\n",
              "      <td>NaN</td>\n",
              "      <td>NaN</td>\n",
              "      <td>NaN</td>\n",
              "      <td>NaN</td>\n",
              "      <td>NaN</td>\n",
              "      <td>NaN</td>\n",
              "      <td>NaN</td>\n",
              "      <td>NaN</td>\n",
              "      <td>NaN</td>\n",
              "      <td>NaN</td>\n",
              "      <td>NaN</td>\n",
              "      <td>NaN</td>\n",
              "      <td>NaN</td>\n",
              "      <td>NaN</td>\n",
              "      <td>NaN</td>\n",
              "      <td>NaN</td>\n",
              "      <td>NaN</td>\n",
              "      <td>NaN</td>\n",
              "      <td>NaN</td>\n",
              "      <td>NaN</td>\n",
              "      <td>NaN</td>\n",
              "      <td>NaN</td>\n",
              "      <td>NaN</td>\n",
              "    </tr>\n",
              "    <tr>\n",
              "      <th>1</th>\n",
              "      <td>368032956.0</td>\n",
              "      <td>YR-11262518,0</td>\n",
              "      <td>3.680330e+29</td>\n",
              "      <td>Default Team</td>\n",
              "      <td>Delivery</td>\n",
              "      <td>NaN</td>\n",
              "      <td>1150142</td>\n",
              "      <td>-</td>\n",
              "      <td>-</td>\n",
              "      <td>Topup Mama</td>\n",
              "      <td>17 Feb 2022 12:04:02 pm</td>\n",
              "      <td>17 Feb 2022 02:30:00 pm</td>\n",
              "      <td>-</td>\n",
              "      <td>Assigned</td>\n",
              "      <td>-</td>\n",
              "      <td>0.0</td>\n",
              "      <td>-</td>\n",
              "      <td>6.544412</td>\n",
              "      <td>3.401738</td>\n",
              "      <td>NaN</td>\n",
              "      <td>-</td>\n",
              "      <td>Order_Details</td>\n",
              "      <td>1</td>\n",
              "      <td>₦ 325.00</td>\n",
              "      <td>-</td>\n",
              "      <td>₦ 0.00</td>\n",
              "      <td>₦ 0.00</td>\n",
              "      <td>₦ 0.00</td>\n",
              "      <td>104575</td>\n",
              "      <td>CASH</td>\n",
              "      <td>-</td>\n",
              "      <td>-</td>\n",
              "      <td>-</td>\n",
              "      <td>NaN</td>\n",
              "      <td>NaN</td>\n",
              "      <td>NaN</td>\n",
              "      <td>NaN</td>\n",
              "      <td>NaN</td>\n",
              "      <td>NaN</td>\n",
              "      <td>NaN</td>\n",
              "      <td>...</td>\n",
              "      <td>NaN</td>\n",
              "      <td>NaN</td>\n",
              "      <td>NaN</td>\n",
              "      <td>NaN</td>\n",
              "      <td>NaN</td>\n",
              "      <td>NaN</td>\n",
              "      <td>NaN</td>\n",
              "      <td>NaN</td>\n",
              "      <td>NaN</td>\n",
              "      <td>NaN</td>\n",
              "      <td>NaN</td>\n",
              "      <td>NaN</td>\n",
              "      <td>NaN</td>\n",
              "      <td>NaN</td>\n",
              "      <td>NaN</td>\n",
              "      <td>NaN</td>\n",
              "      <td>NaN</td>\n",
              "      <td>NaN</td>\n",
              "      <td>NaN</td>\n",
              "      <td>NaN</td>\n",
              "      <td>NaN</td>\n",
              "      <td>NaN</td>\n",
              "      <td>NaN</td>\n",
              "      <td>NaN</td>\n",
              "      <td>NaN</td>\n",
              "      <td>NaN</td>\n",
              "      <td>NaN</td>\n",
              "      <td>NaN</td>\n",
              "      <td>NaN</td>\n",
              "      <td>NaN</td>\n",
              "      <td>NaN</td>\n",
              "      <td>NaN</td>\n",
              "      <td>NaN</td>\n",
              "      <td>NaN</td>\n",
              "      <td>NaN</td>\n",
              "      <td>NaN</td>\n",
              "      <td>NaN</td>\n",
              "      <td>NaN</td>\n",
              "      <td>NaN</td>\n",
              "      <td>NaN</td>\n",
              "    </tr>\n",
              "    <tr>\n",
              "      <th>2</th>\n",
              "      <td>368012178.0</td>\n",
              "      <td>YR-11261796,0</td>\n",
              "      <td>3.680122e+29</td>\n",
              "      <td>Default Team</td>\n",
              "      <td>Delivery</td>\n",
              "      <td>NaN</td>\n",
              "      <td>1166840</td>\n",
              "      <td>11</td>\n",
              "      <td>-</td>\n",
              "      <td>Topup Mama</td>\n",
              "      <td>17 Feb 2022 11:10:30 am</td>\n",
              "      <td>17 Feb 2022 02:00:00 pm</td>\n",
              "      <td>-</td>\n",
              "      <td>In Transit</td>\n",
              "      <td>-</td>\n",
              "      <td>0.0</td>\n",
              "      <td>-</td>\n",
              "      <td>6.5558</td>\n",
              "      <td>3.392317</td>\n",
              "      <td>NaN</td>\n",
              "      <td>-</td>\n",
              "      <td>Order_Details</td>\n",
              "      <td>5</td>\n",
              "      <td>₦ 104250.00</td>\n",
              "      <td>-</td>\n",
              "      <td>-</td>\n",
              "      <td>-</td>\n",
              "      <td>-</td>\n",
              "      <td>-</td>\n",
              "      <td>-</td>\n",
              "      <td>-</td>\n",
              "      <td>-</td>\n",
              "      <td>-</td>\n",
              "      <td>NaN</td>\n",
              "      <td>NaN</td>\n",
              "      <td>NaN</td>\n",
              "      <td>NaN</td>\n",
              "      <td>NaN</td>\n",
              "      <td>NaN</td>\n",
              "      <td>NaN</td>\n",
              "      <td>...</td>\n",
              "      <td>NaN</td>\n",
              "      <td>NaN</td>\n",
              "      <td>NaN</td>\n",
              "      <td>NaN</td>\n",
              "      <td>NaN</td>\n",
              "      <td>NaN</td>\n",
              "      <td>NaN</td>\n",
              "      <td>NaN</td>\n",
              "      <td>NaN</td>\n",
              "      <td>NaN</td>\n",
              "      <td>NaN</td>\n",
              "      <td>NaN</td>\n",
              "      <td>NaN</td>\n",
              "      <td>NaN</td>\n",
              "      <td>NaN</td>\n",
              "      <td>NaN</td>\n",
              "      <td>NaN</td>\n",
              "      <td>NaN</td>\n",
              "      <td>NaN</td>\n",
              "      <td>NaN</td>\n",
              "      <td>NaN</td>\n",
              "      <td>NaN</td>\n",
              "      <td>NaN</td>\n",
              "      <td>NaN</td>\n",
              "      <td>NaN</td>\n",
              "      <td>NaN</td>\n",
              "      <td>NaN</td>\n",
              "      <td>NaN</td>\n",
              "      <td>NaN</td>\n",
              "      <td>NaN</td>\n",
              "      <td>NaN</td>\n",
              "      <td>NaN</td>\n",
              "      <td>NaN</td>\n",
              "      <td>NaN</td>\n",
              "      <td>NaN</td>\n",
              "      <td>NaN</td>\n",
              "      <td>NaN</td>\n",
              "      <td>NaN</td>\n",
              "      <td>NaN</td>\n",
              "      <td>NaN</td>\n",
              "    </tr>\n",
              "    <tr>\n",
              "      <th>3</th>\n",
              "      <td>368012178.0</td>\n",
              "      <td>YR-11261796,0</td>\n",
              "      <td>3.680122e+29</td>\n",
              "      <td>Default Team</td>\n",
              "      <td>Delivery</td>\n",
              "      <td>NaN</td>\n",
              "      <td>1166840</td>\n",
              "      <td>11</td>\n",
              "      <td>-</td>\n",
              "      <td>Topup Mama</td>\n",
              "      <td>17 Feb 2022 11:10:30 am</td>\n",
              "      <td>17 Feb 2022 02:00:00 pm</td>\n",
              "      <td>-</td>\n",
              "      <td>In Transit</td>\n",
              "      <td>-</td>\n",
              "      <td>0.0</td>\n",
              "      <td>-</td>\n",
              "      <td>6.5558</td>\n",
              "      <td>3.392317</td>\n",
              "      <td>NaN</td>\n",
              "      <td>-</td>\n",
              "      <td>Order_Details</td>\n",
              "      <td>1</td>\n",
              "      <td>₦ 325.00</td>\n",
              "      <td>-</td>\n",
              "      <td>₦ 0.00</td>\n",
              "      <td>₦ 0.00</td>\n",
              "      <td>₦ 0.00</td>\n",
              "      <td>104575</td>\n",
              "      <td>CASH</td>\n",
              "      <td>-</td>\n",
              "      <td>-</td>\n",
              "      <td>-</td>\n",
              "      <td>NaN</td>\n",
              "      <td>NaN</td>\n",
              "      <td>NaN</td>\n",
              "      <td>NaN</td>\n",
              "      <td>NaN</td>\n",
              "      <td>NaN</td>\n",
              "      <td>NaN</td>\n",
              "      <td>...</td>\n",
              "      <td>NaN</td>\n",
              "      <td>NaN</td>\n",
              "      <td>NaN</td>\n",
              "      <td>NaN</td>\n",
              "      <td>NaN</td>\n",
              "      <td>NaN</td>\n",
              "      <td>NaN</td>\n",
              "      <td>NaN</td>\n",
              "      <td>NaN</td>\n",
              "      <td>NaN</td>\n",
              "      <td>NaN</td>\n",
              "      <td>NaN</td>\n",
              "      <td>NaN</td>\n",
              "      <td>NaN</td>\n",
              "      <td>NaN</td>\n",
              "      <td>NaN</td>\n",
              "      <td>NaN</td>\n",
              "      <td>NaN</td>\n",
              "      <td>NaN</td>\n",
              "      <td>NaN</td>\n",
              "      <td>NaN</td>\n",
              "      <td>NaN</td>\n",
              "      <td>NaN</td>\n",
              "      <td>NaN</td>\n",
              "      <td>NaN</td>\n",
              "      <td>NaN</td>\n",
              "      <td>NaN</td>\n",
              "      <td>NaN</td>\n",
              "      <td>NaN</td>\n",
              "      <td>NaN</td>\n",
              "      <td>NaN</td>\n",
              "      <td>NaN</td>\n",
              "      <td>NaN</td>\n",
              "      <td>NaN</td>\n",
              "      <td>NaN</td>\n",
              "      <td>NaN</td>\n",
              "      <td>NaN</td>\n",
              "      <td>NaN</td>\n",
              "      <td>NaN</td>\n",
              "      <td>NaN</td>\n",
              "    </tr>\n",
              "    <tr>\n",
              "      <th>4</th>\n",
              "      <td>367999205.0</td>\n",
              "      <td>YR-11261341,0</td>\n",
              "      <td>3.679992e+29</td>\n",
              "      <td>Default Team</td>\n",
              "      <td>Delivery</td>\n",
              "      <td>NaN</td>\n",
              "      <td>1233220</td>\n",
              "      <td>-</td>\n",
              "      <td>-</td>\n",
              "      <td>Topup Mama</td>\n",
              "      <td>17 Feb 2022 10:33:11 am</td>\n",
              "      <td>17 Feb 2022 02:30:00 pm</td>\n",
              "      <td>-</td>\n",
              "      <td>Assigned</td>\n",
              "      <td>-</td>\n",
              "      <td>0.0</td>\n",
              "      <td>-</td>\n",
              "      <td>6.481961</td>\n",
              "      <td>3.347986</td>\n",
              "      <td>NaN</td>\n",
              "      <td>-</td>\n",
              "      <td>Order_Details</td>\n",
              "      <td>6</td>\n",
              "      <td>₦ 1950.00</td>\n",
              "      <td>-</td>\n",
              "      <td>-</td>\n",
              "      <td>-</td>\n",
              "      <td>-</td>\n",
              "      <td>-</td>\n",
              "      <td>-</td>\n",
              "      <td>-</td>\n",
              "      <td>-</td>\n",
              "      <td>-</td>\n",
              "      <td>NaN</td>\n",
              "      <td>NaN</td>\n",
              "      <td>NaN</td>\n",
              "      <td>NaN</td>\n",
              "      <td>NaN</td>\n",
              "      <td>NaN</td>\n",
              "      <td>NaN</td>\n",
              "      <td>...</td>\n",
              "      <td>NaN</td>\n",
              "      <td>NaN</td>\n",
              "      <td>NaN</td>\n",
              "      <td>NaN</td>\n",
              "      <td>NaN</td>\n",
              "      <td>NaN</td>\n",
              "      <td>NaN</td>\n",
              "      <td>NaN</td>\n",
              "      <td>NaN</td>\n",
              "      <td>NaN</td>\n",
              "      <td>NaN</td>\n",
              "      <td>NaN</td>\n",
              "      <td>NaN</td>\n",
              "      <td>NaN</td>\n",
              "      <td>NaN</td>\n",
              "      <td>NaN</td>\n",
              "      <td>NaN</td>\n",
              "      <td>NaN</td>\n",
              "      <td>NaN</td>\n",
              "      <td>NaN</td>\n",
              "      <td>NaN</td>\n",
              "      <td>NaN</td>\n",
              "      <td>NaN</td>\n",
              "      <td>NaN</td>\n",
              "      <td>NaN</td>\n",
              "      <td>NaN</td>\n",
              "      <td>NaN</td>\n",
              "      <td>NaN</td>\n",
              "      <td>NaN</td>\n",
              "      <td>NaN</td>\n",
              "      <td>NaN</td>\n",
              "      <td>NaN</td>\n",
              "      <td>NaN</td>\n",
              "      <td>NaN</td>\n",
              "      <td>NaN</td>\n",
              "      <td>NaN</td>\n",
              "      <td>NaN</td>\n",
              "      <td>NaN</td>\n",
              "      <td>NaN</td>\n",
              "      <td>NaN</td>\n",
              "    </tr>\n",
              "  </tbody>\n",
              "</table>\n",
              "<p>5 rows × 90 columns</p>\n",
              "</div>\n",
              "      <button class=\"colab-df-convert\" onclick=\"convertToInteractive('df-2fe6c77a-b7fe-439c-a8d5-f0b7e3d94efe')\"\n",
              "              title=\"Convert this dataframe to an interactive table.\"\n",
              "              style=\"display:none;\">\n",
              "        \n",
              "  <svg xmlns=\"http://www.w3.org/2000/svg\" height=\"24px\"viewBox=\"0 0 24 24\"\n",
              "       width=\"24px\">\n",
              "    <path d=\"M0 0h24v24H0V0z\" fill=\"none\"/>\n",
              "    <path d=\"M18.56 5.44l.94 2.06.94-2.06 2.06-.94-2.06-.94-.94-2.06-.94 2.06-2.06.94zm-11 1L8.5 8.5l.94-2.06 2.06-.94-2.06-.94L8.5 2.5l-.94 2.06-2.06.94zm10 10l.94 2.06.94-2.06 2.06-.94-2.06-.94-.94-2.06-.94 2.06-2.06.94z\"/><path d=\"M17.41 7.96l-1.37-1.37c-.4-.4-.92-.59-1.43-.59-.52 0-1.04.2-1.43.59L10.3 9.45l-7.72 7.72c-.78.78-.78 2.05 0 2.83L4 21.41c.39.39.9.59 1.41.59.51 0 1.02-.2 1.41-.59l7.78-7.78 2.81-2.81c.8-.78.8-2.07 0-2.86zM5.41 20L4 18.59l7.72-7.72 1.47 1.35L5.41 20z\"/>\n",
              "  </svg>\n",
              "      </button>\n",
              "      \n",
              "  <style>\n",
              "    .colab-df-container {\n",
              "      display:flex;\n",
              "      flex-wrap:wrap;\n",
              "      gap: 12px;\n",
              "    }\n",
              "\n",
              "    .colab-df-convert {\n",
              "      background-color: #E8F0FE;\n",
              "      border: none;\n",
              "      border-radius: 50%;\n",
              "      cursor: pointer;\n",
              "      display: none;\n",
              "      fill: #1967D2;\n",
              "      height: 32px;\n",
              "      padding: 0 0 0 0;\n",
              "      width: 32px;\n",
              "    }\n",
              "\n",
              "    .colab-df-convert:hover {\n",
              "      background-color: #E2EBFA;\n",
              "      box-shadow: 0px 1px 2px rgba(60, 64, 67, 0.3), 0px 1px 3px 1px rgba(60, 64, 67, 0.15);\n",
              "      fill: #174EA6;\n",
              "    }\n",
              "\n",
              "    [theme=dark] .colab-df-convert {\n",
              "      background-color: #3B4455;\n",
              "      fill: #D2E3FC;\n",
              "    }\n",
              "\n",
              "    [theme=dark] .colab-df-convert:hover {\n",
              "      background-color: #434B5C;\n",
              "      box-shadow: 0px 1px 3px 1px rgba(0, 0, 0, 0.15);\n",
              "      filter: drop-shadow(0px 1px 2px rgba(0, 0, 0, 0.3));\n",
              "      fill: #FFFFFF;\n",
              "    }\n",
              "  </style>\n",
              "\n",
              "      <script>\n",
              "        const buttonEl =\n",
              "          document.querySelector('#df-2fe6c77a-b7fe-439c-a8d5-f0b7e3d94efe button.colab-df-convert');\n",
              "        buttonEl.style.display =\n",
              "          google.colab.kernel.accessAllowed ? 'block' : 'none';\n",
              "\n",
              "        async function convertToInteractive(key) {\n",
              "          const element = document.querySelector('#df-2fe6c77a-b7fe-439c-a8d5-f0b7e3d94efe');\n",
              "          const dataTable =\n",
              "            await google.colab.kernel.invokeFunction('convertToInteractive',\n",
              "                                                     [key], {});\n",
              "          if (!dataTable) return;\n",
              "\n",
              "          const docLinkHtml = 'Like what you see? Visit the ' +\n",
              "            '<a target=\"_blank\" href=https://colab.research.google.com/notebooks/data_table.ipynb>data table notebook</a>'\n",
              "            + ' to learn more about interactive tables.';\n",
              "          element.innerHTML = '';\n",
              "          dataTable['output_type'] = 'display_data';\n",
              "          await google.colab.output.renderOutput(dataTable, element);\n",
              "          const docLink = document.createElement('div');\n",
              "          docLink.innerHTML = docLinkHtml;\n",
              "          element.appendChild(docLink);\n",
              "        }\n",
              "      </script>\n",
              "    </div>\n",
              "  </div>\n",
              "  "
            ],
            "text/plain": [
              "       Task_ID       Order_ID  Relationship  ... Agent_Name Unnamed: 34 Unnamed: 35\n",
              "0  368032956.0  YR-11262518,0  3.680330e+29  ...        NaN         NaN         NaN\n",
              "1  368032956.0  YR-11262518,0  3.680330e+29  ...        NaN         NaN         NaN\n",
              "2  368012178.0  YR-11261796,0  3.680122e+29  ...        NaN         NaN         NaN\n",
              "3  368012178.0  YR-11261796,0  3.680122e+29  ...        NaN         NaN         NaN\n",
              "4  367999205.0  YR-11261341,0  3.679992e+29  ...        NaN         NaN         NaN\n",
              "\n",
              "[5 rows x 90 columns]"
            ]
          },
          "metadata": {},
          "execution_count": 140
        }
      ]
    },
    {
      "cell_type": "code",
      "source": [
        "print(data.shape)\n",
        "print(list(data.columns))"
      ],
      "metadata": {
        "colab": {
          "base_uri": "https://localhost:8080/"
        },
        "id": "FavMpCbGUiVg",
        "outputId": "03508758-fbf0-4555-e1a9-07cd0c50343b"
      },
      "execution_count": 141,
      "outputs": [
        {
          "output_type": "stream",
          "name": "stdout",
          "text": [
            "(71945, 90)\n",
            "['Task_ID', 'Order_ID', 'Relationship', 'Team_Name', 'Task_Type', 'Notes', 'Agent_ID', 'Distance(m)', 'Total_Time_Taken(min)', 'Pick_up_From', 'Start_Before', 'Complete_Before', 'Completion_Time', 'Task_Status', 'Ref_Images', 'Rating', 'Review', 'Latitude', 'Longitude', 'Tags', 'Promo_Applied', 'Custom_Template_ID', 'Task_Details_QTY', 'Task_Details_AMOUNT', 'Special_Instructions', 'Tip', 'Delivery_Charges', 'Discount', 'Subtotal', 'Payment_Type', 'Task_Category', 'Earning', 'Pricing', 'Order ID', 'Order Status', 'Category Name', 'SKU', 'Customization Group', 'Customization Option', 'Quantity', 'Unit Price', 'Cost Price', 'Total Cost Price', 'Total Price', 'Order Total', 'Sub Total', 'Tax', 'Delivery Charge', 'Remaining Balance', 'Payment Method', 'Additional Charge', 'Taxable Amount', 'Transaction ID', 'Currency Symbol', 'Transaction Status', 'Promo Code', 'Customer ID', 'Merchant ID', 'Store Name', 'Pickup Address', 'Description', 'Distance (in km)', 'Order Time', 'Pickup Time', 'Delivery Time', 'Ratings', 'Reviews', 'Merchant Earning', 'Commission Amount', 'Commission Payout Status', 'Order Preparation Time', 'Debt Amount', 'Redeemed Loyalty Points', 'Consumed Loyalty Points', 'Cancellation Reason', 'Flat Discount', 'Checkout Template Name', 'Checkout Template Value', 'Last Used Platform', 'Is Blocked', 'Created At', 'Language', 'Outstanding Amount', 'Loyalty Points', 'Number of Employees', 'Number of employees', 'Upload restuarant location', 'Agent_Name', 'Unnamed: 34', 'Unnamed: 35']\n"
          ]
        }
      ]
    },
    {
      "cell_type": "code",
      "source": [
        "data1 = data[['Payment_Type','Redeemed Loyalty Points','Loyalty Points']]\n",
        "data1.head()"
      ],
      "metadata": {
        "colab": {
          "base_uri": "https://localhost:8080/",
          "height": 206
        },
        "id": "kkdHPSjRdEg_",
        "outputId": "c45b64c1-6e53-42dd-cda2-5014f3c25c7f"
      },
      "execution_count": 142,
      "outputs": [
        {
          "output_type": "execute_result",
          "data": {
            "text/html": [
              "\n",
              "  <div id=\"df-c311ad12-bb91-4548-b15b-69d81cb3e4eb\">\n",
              "    <div class=\"colab-df-container\">\n",
              "      <div>\n",
              "<style scoped>\n",
              "    .dataframe tbody tr th:only-of-type {\n",
              "        vertical-align: middle;\n",
              "    }\n",
              "\n",
              "    .dataframe tbody tr th {\n",
              "        vertical-align: top;\n",
              "    }\n",
              "\n",
              "    .dataframe thead th {\n",
              "        text-align: right;\n",
              "    }\n",
              "</style>\n",
              "<table border=\"1\" class=\"dataframe\">\n",
              "  <thead>\n",
              "    <tr style=\"text-align: right;\">\n",
              "      <th></th>\n",
              "      <th>Payment_Type</th>\n",
              "      <th>Redeemed Loyalty Points</th>\n",
              "      <th>Loyalty Points</th>\n",
              "    </tr>\n",
              "  </thead>\n",
              "  <tbody>\n",
              "    <tr>\n",
              "      <th>0</th>\n",
              "      <td>-</td>\n",
              "      <td>NaN</td>\n",
              "      <td>NaN</td>\n",
              "    </tr>\n",
              "    <tr>\n",
              "      <th>1</th>\n",
              "      <td>CASH</td>\n",
              "      <td>NaN</td>\n",
              "      <td>NaN</td>\n",
              "    </tr>\n",
              "    <tr>\n",
              "      <th>2</th>\n",
              "      <td>-</td>\n",
              "      <td>NaN</td>\n",
              "      <td>NaN</td>\n",
              "    </tr>\n",
              "    <tr>\n",
              "      <th>3</th>\n",
              "      <td>CASH</td>\n",
              "      <td>NaN</td>\n",
              "      <td>NaN</td>\n",
              "    </tr>\n",
              "    <tr>\n",
              "      <th>4</th>\n",
              "      <td>-</td>\n",
              "      <td>NaN</td>\n",
              "      <td>NaN</td>\n",
              "    </tr>\n",
              "  </tbody>\n",
              "</table>\n",
              "</div>\n",
              "      <button class=\"colab-df-convert\" onclick=\"convertToInteractive('df-c311ad12-bb91-4548-b15b-69d81cb3e4eb')\"\n",
              "              title=\"Convert this dataframe to an interactive table.\"\n",
              "              style=\"display:none;\">\n",
              "        \n",
              "  <svg xmlns=\"http://www.w3.org/2000/svg\" height=\"24px\"viewBox=\"0 0 24 24\"\n",
              "       width=\"24px\">\n",
              "    <path d=\"M0 0h24v24H0V0z\" fill=\"none\"/>\n",
              "    <path d=\"M18.56 5.44l.94 2.06.94-2.06 2.06-.94-2.06-.94-.94-2.06-.94 2.06-2.06.94zm-11 1L8.5 8.5l.94-2.06 2.06-.94-2.06-.94L8.5 2.5l-.94 2.06-2.06.94zm10 10l.94 2.06.94-2.06 2.06-.94-2.06-.94-.94-2.06-.94 2.06-2.06.94z\"/><path d=\"M17.41 7.96l-1.37-1.37c-.4-.4-.92-.59-1.43-.59-.52 0-1.04.2-1.43.59L10.3 9.45l-7.72 7.72c-.78.78-.78 2.05 0 2.83L4 21.41c.39.39.9.59 1.41.59.51 0 1.02-.2 1.41-.59l7.78-7.78 2.81-2.81c.8-.78.8-2.07 0-2.86zM5.41 20L4 18.59l7.72-7.72 1.47 1.35L5.41 20z\"/>\n",
              "  </svg>\n",
              "      </button>\n",
              "      \n",
              "  <style>\n",
              "    .colab-df-container {\n",
              "      display:flex;\n",
              "      flex-wrap:wrap;\n",
              "      gap: 12px;\n",
              "    }\n",
              "\n",
              "    .colab-df-convert {\n",
              "      background-color: #E8F0FE;\n",
              "      border: none;\n",
              "      border-radius: 50%;\n",
              "      cursor: pointer;\n",
              "      display: none;\n",
              "      fill: #1967D2;\n",
              "      height: 32px;\n",
              "      padding: 0 0 0 0;\n",
              "      width: 32px;\n",
              "    }\n",
              "\n",
              "    .colab-df-convert:hover {\n",
              "      background-color: #E2EBFA;\n",
              "      box-shadow: 0px 1px 2px rgba(60, 64, 67, 0.3), 0px 1px 3px 1px rgba(60, 64, 67, 0.15);\n",
              "      fill: #174EA6;\n",
              "    }\n",
              "\n",
              "    [theme=dark] .colab-df-convert {\n",
              "      background-color: #3B4455;\n",
              "      fill: #D2E3FC;\n",
              "    }\n",
              "\n",
              "    [theme=dark] .colab-df-convert:hover {\n",
              "      background-color: #434B5C;\n",
              "      box-shadow: 0px 1px 3px 1px rgba(0, 0, 0, 0.15);\n",
              "      filter: drop-shadow(0px 1px 2px rgba(0, 0, 0, 0.3));\n",
              "      fill: #FFFFFF;\n",
              "    }\n",
              "  </style>\n",
              "\n",
              "      <script>\n",
              "        const buttonEl =\n",
              "          document.querySelector('#df-c311ad12-bb91-4548-b15b-69d81cb3e4eb button.colab-df-convert');\n",
              "        buttonEl.style.display =\n",
              "          google.colab.kernel.accessAllowed ? 'block' : 'none';\n",
              "\n",
              "        async function convertToInteractive(key) {\n",
              "          const element = document.querySelector('#df-c311ad12-bb91-4548-b15b-69d81cb3e4eb');\n",
              "          const dataTable =\n",
              "            await google.colab.kernel.invokeFunction('convertToInteractive',\n",
              "                                                     [key], {});\n",
              "          if (!dataTable) return;\n",
              "\n",
              "          const docLinkHtml = 'Like what you see? Visit the ' +\n",
              "            '<a target=\"_blank\" href=https://colab.research.google.com/notebooks/data_table.ipynb>data table notebook</a>'\n",
              "            + ' to learn more about interactive tables.';\n",
              "          element.innerHTML = '';\n",
              "          dataTable['output_type'] = 'display_data';\n",
              "          await google.colab.output.renderOutput(dataTable, element);\n",
              "          const docLink = document.createElement('div');\n",
              "          docLink.innerHTML = docLinkHtml;\n",
              "          element.appendChild(docLink);\n",
              "        }\n",
              "      </script>\n",
              "    </div>\n",
              "  </div>\n",
              "  "
            ],
            "text/plain": [
              "  Payment_Type Redeemed Loyalty Points  Loyalty Points\n",
              "0            -                     NaN             NaN\n",
              "1         CASH                     NaN             NaN\n",
              "2            -                     NaN             NaN\n",
              "3         CASH                     NaN             NaN\n",
              "4            -                     NaN             NaN"
            ]
          },
          "metadata": {},
          "execution_count": 142
        }
      ]
    },
    {
      "cell_type": "code",
      "source": [
        "data1.dtypes"
      ],
      "metadata": {
        "colab": {
          "base_uri": "https://localhost:8080/"
        },
        "id": "IPJZ5WPvr4Md",
        "outputId": "ee8b497d-8228-4206-8254-ea81e4f49595"
      },
      "execution_count": 143,
      "outputs": [
        {
          "output_type": "execute_result",
          "data": {
            "text/plain": [
              "Payment_Type                object\n",
              "Redeemed Loyalty Points     object\n",
              "Loyalty Points             float64\n",
              "dtype: object"
            ]
          },
          "metadata": {},
          "execution_count": 143
        }
      ]
    },
    {
      "cell_type": "markdown",
      "source": [
        "As we can see, redeemed loyalty points feature is an object when it is supposed to be a float. We need to change that."
      ],
      "metadata": {
        "id": "oOow3Suor7l7"
      }
    },
    {
      "cell_type": "code",
      "source": [
        "#Cleaning the data\n",
        "data1['Redeemed Loyalty Points'] = data1['Redeemed Loyalty Points'].fillna(0)\n",
        "print(data1)"
      ],
      "metadata": {
        "colab": {
          "base_uri": "https://localhost:8080/"
        },
        "id": "biVRgvNW3Hvn",
        "outputId": "2e936ad1-2831-4296-ae5c-a3cd6c9feef9"
      },
      "execution_count": 144,
      "outputs": [
        {
          "output_type": "stream",
          "name": "stdout",
          "text": [
            "      Payment_Type Redeemed Loyalty Points  Loyalty Points\n",
            "0                -                       0             NaN\n",
            "1             CASH                       0             NaN\n",
            "2                -                       0             NaN\n",
            "3             CASH                       0             NaN\n",
            "4                -                       0             NaN\n",
            "...            ...                     ...             ...\n",
            "71940          NaN                       -             NaN\n",
            "71941          NaN                       -             NaN\n",
            "71942          NaN                       -             NaN\n",
            "71943          NaN                       -             NaN\n",
            "71944          NaN                       -             NaN\n",
            "\n",
            "[71945 rows x 3 columns]\n"
          ]
        },
        {
          "output_type": "stream",
          "name": "stderr",
          "text": [
            "/usr/local/lib/python3.7/dist-packages/ipykernel_launcher.py:2: SettingWithCopyWarning: \n",
            "A value is trying to be set on a copy of a slice from a DataFrame.\n",
            "Try using .loc[row_indexer,col_indexer] = value instead\n",
            "\n",
            "See the caveats in the documentation: https://pandas.pydata.org/pandas-docs/stable/user_guide/indexing.html#returning-a-view-versus-a-copy\n",
            "  \n"
          ]
        }
      ]
    },
    {
      "cell_type": "code",
      "source": [
        "#Replacing string values (-) from Redeemed Feature\n",
        "data1['Redeemed Loyalty Points'].replace(\"-\", 0, inplace=True)\n",
        "print(data1)"
      ],
      "metadata": {
        "colab": {
          "base_uri": "https://localhost:8080/"
        },
        "id": "QU__RXl03VrT",
        "outputId": "3fd20db7-a1bb-4c84-89f6-8513d9c6e17f"
      },
      "execution_count": 145,
      "outputs": [
        {
          "output_type": "stream",
          "name": "stdout",
          "text": [
            "      Payment_Type Redeemed Loyalty Points  Loyalty Points\n",
            "0                -                       0             NaN\n",
            "1             CASH                       0             NaN\n",
            "2                -                       0             NaN\n",
            "3             CASH                       0             NaN\n",
            "4                -                       0             NaN\n",
            "...            ...                     ...             ...\n",
            "71940          NaN                       0             NaN\n",
            "71941          NaN                       0             NaN\n",
            "71942          NaN                       0             NaN\n",
            "71943          NaN                       0             NaN\n",
            "71944          NaN                       0             NaN\n",
            "\n",
            "[71945 rows x 3 columns]\n"
          ]
        },
        {
          "output_type": "stream",
          "name": "stderr",
          "text": [
            "/usr/local/lib/python3.7/dist-packages/pandas/core/generic.py:6619: SettingWithCopyWarning: \n",
            "A value is trying to be set on a copy of a slice from a DataFrame\n",
            "\n",
            "See the caveats in the documentation: https://pandas.pydata.org/pandas-docs/stable/user_guide/indexing.html#returning-a-view-versus-a-copy\n",
            "  return self._update_inplace(result)\n"
          ]
        }
      ]
    },
    {
      "cell_type": "code",
      "source": [
        "# Perform the same operations for loyalty points feature\n",
        "data1['Loyalty Points'] = data1['Loyalty Points'].fillna(0)\n",
        "print(data1)\n"
      ],
      "metadata": {
        "colab": {
          "base_uri": "https://localhost:8080/"
        },
        "id": "vF1bokaZ1XKO",
        "outputId": "beaeb2dc-1d0f-4455-969e-6ac3c83eb196"
      },
      "execution_count": 146,
      "outputs": [
        {
          "output_type": "stream",
          "name": "stdout",
          "text": [
            "      Payment_Type Redeemed Loyalty Points  Loyalty Points\n",
            "0                -                       0             0.0\n",
            "1             CASH                       0             0.0\n",
            "2                -                       0             0.0\n",
            "3             CASH                       0             0.0\n",
            "4                -                       0             0.0\n",
            "...            ...                     ...             ...\n",
            "71940          NaN                       0             0.0\n",
            "71941          NaN                       0             0.0\n",
            "71942          NaN                       0             0.0\n",
            "71943          NaN                       0             0.0\n",
            "71944          NaN                       0             0.0\n",
            "\n",
            "[71945 rows x 3 columns]\n"
          ]
        },
        {
          "output_type": "stream",
          "name": "stderr",
          "text": [
            "/usr/local/lib/python3.7/dist-packages/ipykernel_launcher.py:2: SettingWithCopyWarning: \n",
            "A value is trying to be set on a copy of a slice from a DataFrame.\n",
            "Try using .loc[row_indexer,col_indexer] = value instead\n",
            "\n",
            "See the caveats in the documentation: https://pandas.pydata.org/pandas-docs/stable/user_guide/indexing.html#returning-a-view-versus-a-copy\n",
            "  \n"
          ]
        }
      ]
    },
    {
      "cell_type": "markdown",
      "source": [
        "**Plotting the classification of customers by payment type**"
      ],
      "metadata": {
        "id": "5xZlHuxvsRT3"
      }
    },
    {
      "cell_type": "code",
      "source": [
        "print(data1['Payment_Type'])"
      ],
      "metadata": {
        "colab": {
          "base_uri": "https://localhost:8080/"
        },
        "id": "-cmwY6iq4R0n",
        "outputId": "8b93a25b-4789-4e3d-cdd3-eef863901bec"
      },
      "execution_count": 147,
      "outputs": [
        {
          "output_type": "stream",
          "name": "stdout",
          "text": [
            "0           -\n",
            "1        CASH\n",
            "2           -\n",
            "3        CASH\n",
            "4           -\n",
            "         ... \n",
            "71940     NaN\n",
            "71941     NaN\n",
            "71942     NaN\n",
            "71943     NaN\n",
            "71944     NaN\n",
            "Name: Payment_Type, Length: 71945, dtype: object\n"
          ]
        }
      ]
    },
    {
      "cell_type": "code",
      "source": [
        "#Replacing string variables with 'No Cash'\n",
        "data1['Payment_Type'] = data1['Payment_Type'].map(\n",
        "                   {'CASH': 'Cash' ,'-': 'No Cash'})\n",
        "data1.head()  "
      ],
      "metadata": {
        "colab": {
          "base_uri": "https://localhost:8080/",
          "height": 316
        },
        "id": "4PN1uuVRrjNo",
        "outputId": "4ff33da3-ae33-4123-aee6-e3746f4fc9a3"
      },
      "execution_count": 148,
      "outputs": [
        {
          "output_type": "stream",
          "name": "stderr",
          "text": [
            "/usr/local/lib/python3.7/dist-packages/ipykernel_launcher.py:2: SettingWithCopyWarning: \n",
            "A value is trying to be set on a copy of a slice from a DataFrame.\n",
            "Try using .loc[row_indexer,col_indexer] = value instead\n",
            "\n",
            "See the caveats in the documentation: https://pandas.pydata.org/pandas-docs/stable/user_guide/indexing.html#returning-a-view-versus-a-copy\n",
            "  \n"
          ]
        },
        {
          "output_type": "execute_result",
          "data": {
            "text/html": [
              "\n",
              "  <div id=\"df-c6a7cd2d-1bbd-47c7-bc03-42f48547e51f\">\n",
              "    <div class=\"colab-df-container\">\n",
              "      <div>\n",
              "<style scoped>\n",
              "    .dataframe tbody tr th:only-of-type {\n",
              "        vertical-align: middle;\n",
              "    }\n",
              "\n",
              "    .dataframe tbody tr th {\n",
              "        vertical-align: top;\n",
              "    }\n",
              "\n",
              "    .dataframe thead th {\n",
              "        text-align: right;\n",
              "    }\n",
              "</style>\n",
              "<table border=\"1\" class=\"dataframe\">\n",
              "  <thead>\n",
              "    <tr style=\"text-align: right;\">\n",
              "      <th></th>\n",
              "      <th>Payment_Type</th>\n",
              "      <th>Redeemed Loyalty Points</th>\n",
              "      <th>Loyalty Points</th>\n",
              "    </tr>\n",
              "  </thead>\n",
              "  <tbody>\n",
              "    <tr>\n",
              "      <th>0</th>\n",
              "      <td>No Cash</td>\n",
              "      <td>0</td>\n",
              "      <td>0.0</td>\n",
              "    </tr>\n",
              "    <tr>\n",
              "      <th>1</th>\n",
              "      <td>Cash</td>\n",
              "      <td>0</td>\n",
              "      <td>0.0</td>\n",
              "    </tr>\n",
              "    <tr>\n",
              "      <th>2</th>\n",
              "      <td>No Cash</td>\n",
              "      <td>0</td>\n",
              "      <td>0.0</td>\n",
              "    </tr>\n",
              "    <tr>\n",
              "      <th>3</th>\n",
              "      <td>Cash</td>\n",
              "      <td>0</td>\n",
              "      <td>0.0</td>\n",
              "    </tr>\n",
              "    <tr>\n",
              "      <th>4</th>\n",
              "      <td>No Cash</td>\n",
              "      <td>0</td>\n",
              "      <td>0.0</td>\n",
              "    </tr>\n",
              "  </tbody>\n",
              "</table>\n",
              "</div>\n",
              "      <button class=\"colab-df-convert\" onclick=\"convertToInteractive('df-c6a7cd2d-1bbd-47c7-bc03-42f48547e51f')\"\n",
              "              title=\"Convert this dataframe to an interactive table.\"\n",
              "              style=\"display:none;\">\n",
              "        \n",
              "  <svg xmlns=\"http://www.w3.org/2000/svg\" height=\"24px\"viewBox=\"0 0 24 24\"\n",
              "       width=\"24px\">\n",
              "    <path d=\"M0 0h24v24H0V0z\" fill=\"none\"/>\n",
              "    <path d=\"M18.56 5.44l.94 2.06.94-2.06 2.06-.94-2.06-.94-.94-2.06-.94 2.06-2.06.94zm-11 1L8.5 8.5l.94-2.06 2.06-.94-2.06-.94L8.5 2.5l-.94 2.06-2.06.94zm10 10l.94 2.06.94-2.06 2.06-.94-2.06-.94-.94-2.06-.94 2.06-2.06.94z\"/><path d=\"M17.41 7.96l-1.37-1.37c-.4-.4-.92-.59-1.43-.59-.52 0-1.04.2-1.43.59L10.3 9.45l-7.72 7.72c-.78.78-.78 2.05 0 2.83L4 21.41c.39.39.9.59 1.41.59.51 0 1.02-.2 1.41-.59l7.78-7.78 2.81-2.81c.8-.78.8-2.07 0-2.86zM5.41 20L4 18.59l7.72-7.72 1.47 1.35L5.41 20z\"/>\n",
              "  </svg>\n",
              "      </button>\n",
              "      \n",
              "  <style>\n",
              "    .colab-df-container {\n",
              "      display:flex;\n",
              "      flex-wrap:wrap;\n",
              "      gap: 12px;\n",
              "    }\n",
              "\n",
              "    .colab-df-convert {\n",
              "      background-color: #E8F0FE;\n",
              "      border: none;\n",
              "      border-radius: 50%;\n",
              "      cursor: pointer;\n",
              "      display: none;\n",
              "      fill: #1967D2;\n",
              "      height: 32px;\n",
              "      padding: 0 0 0 0;\n",
              "      width: 32px;\n",
              "    }\n",
              "\n",
              "    .colab-df-convert:hover {\n",
              "      background-color: #E2EBFA;\n",
              "      box-shadow: 0px 1px 2px rgba(60, 64, 67, 0.3), 0px 1px 3px 1px rgba(60, 64, 67, 0.15);\n",
              "      fill: #174EA6;\n",
              "    }\n",
              "\n",
              "    [theme=dark] .colab-df-convert {\n",
              "      background-color: #3B4455;\n",
              "      fill: #D2E3FC;\n",
              "    }\n",
              "\n",
              "    [theme=dark] .colab-df-convert:hover {\n",
              "      background-color: #434B5C;\n",
              "      box-shadow: 0px 1px 3px 1px rgba(0, 0, 0, 0.15);\n",
              "      filter: drop-shadow(0px 1px 2px rgba(0, 0, 0, 0.3));\n",
              "      fill: #FFFFFF;\n",
              "    }\n",
              "  </style>\n",
              "\n",
              "      <script>\n",
              "        const buttonEl =\n",
              "          document.querySelector('#df-c6a7cd2d-1bbd-47c7-bc03-42f48547e51f button.colab-df-convert');\n",
              "        buttonEl.style.display =\n",
              "          google.colab.kernel.accessAllowed ? 'block' : 'none';\n",
              "\n",
              "        async function convertToInteractive(key) {\n",
              "          const element = document.querySelector('#df-c6a7cd2d-1bbd-47c7-bc03-42f48547e51f');\n",
              "          const dataTable =\n",
              "            await google.colab.kernel.invokeFunction('convertToInteractive',\n",
              "                                                     [key], {});\n",
              "          if (!dataTable) return;\n",
              "\n",
              "          const docLinkHtml = 'Like what you see? Visit the ' +\n",
              "            '<a target=\"_blank\" href=https://colab.research.google.com/notebooks/data_table.ipynb>data table notebook</a>'\n",
              "            + ' to learn more about interactive tables.';\n",
              "          element.innerHTML = '';\n",
              "          dataTable['output_type'] = 'display_data';\n",
              "          await google.colab.output.renderOutput(dataTable, element);\n",
              "          const docLink = document.createElement('div');\n",
              "          docLink.innerHTML = docLinkHtml;\n",
              "          element.appendChild(docLink);\n",
              "        }\n",
              "      </script>\n",
              "    </div>\n",
              "  </div>\n",
              "  "
            ],
            "text/plain": [
              "  Payment_Type Redeemed Loyalty Points  Loyalty Points\n",
              "0      No Cash                       0             0.0\n",
              "1         Cash                       0             0.0\n",
              "2      No Cash                       0             0.0\n",
              "3         Cash                       0             0.0\n",
              "4      No Cash                       0             0.0"
            ]
          },
          "metadata": {},
          "execution_count": 148
        }
      ]
    },
    {
      "cell_type": "code",
      "source": [
        "#Plotting\n",
        "ax = data1.groupby('Payment_Type').size().plot(kind = 'barh', figsize =(8,8))"
      ],
      "metadata": {
        "colab": {
          "base_uri": "https://localhost:8080/",
          "height": 484
        },
        "id": "yl1NK1YBh9qv",
        "outputId": "f4096fa4-12ee-45c8-8e48-41e087fc3d3d"
      },
      "execution_count": 149,
      "outputs": [
        {
          "output_type": "display_data",
          "data": {
            "image/png": "[encoded data removed]",
            "text/plain": [
              "<Figure size 576x576 with 1 Axes>"
            ]
          },
          "metadata": {}
        }
      ]
    },
    {
      "cell_type": "markdown",
      "source": [
        "**Disclaimer**: No cash includes all string statements from the Payment_Type column.\n",
        "\n",
        "We can see the number of customers who pay with cash and those who don't pay with cash are almost the same."
      ],
      "metadata": {
        "id": "I3lzpGAWjkoc"
      }
    },
    {
      "cell_type": "markdown",
      "source": [
        "**Data Preprocessing**"
      ],
      "metadata": {
        "id": "mxce0JafmF0C"
      }
    },
    {
      "cell_type": "code",
      "source": [
        "X =  data1.drop(['Payment_Type'], axis=1)\n",
        "y = data1['Redeemed Loyalty Points']\n",
        "y = y.astype('int')\n",
        "X_train = pd.get_dummies(data1)\n",
        "\n",
        "#X_train, X_test, y_train, y_test = train_test_split(X, y, test_size = 0.2, random_state = 0)"
      ],
      "metadata": {
        "id": "YJVWg8ZmtBP9"
      },
      "execution_count": 162,
      "outputs": []
    },
    {
      "cell_type": "code",
      "source": [
        "X_train, X_test, y_train, y_test = train_test_split(X, y, test_size = 0.2, random_state = 0)\n"
      ],
      "metadata": {
        "id": "ZnDYlfPqmM64"
      },
      "execution_count": 163,
      "outputs": []
    },
    {
      "cell_type": "code",
      "source": [
        "dtree = DecisionTreeClassifier(random_state=0,max_depth=2)"
      ],
      "metadata": {
        "id": "rseMKKEsrH9z"
      },
      "execution_count": 164,
      "outputs": []
    },
    {
      "cell_type": "code",
      "source": [
        "dtree.fit(X_train,y)"
      ],
      "metadata": {
        "id": "DEQu58HBaCkP"
      },
      "execution_count": null,
      "outputs": []
    }
  ]
}